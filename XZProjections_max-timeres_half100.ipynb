{
 "cells": [
  {
   "cell_type": "code",
   "execution_count": 1,
   "metadata": {
    "collapsed": false
   },
   "outputs": [
    {
     "name": "stdout",
     "output_type": "stream",
     "text": [
      "Populating the interactive namespace from numpy and matplotlib\n"
     ]
    }
   ],
   "source": [
    "%pylab inline\n",
    "%matplotlib inline\n",
    "import matplotlib\n",
    "import matplotlib.pyplot as plt\n",
    "from matplotlib import animation\n",
    "import matplotlib.cm as cm\n",
    "import matplotlib.figure as fig\n",
    "from matplotlib.ticker import MultipleLocator, FormatStrFormatter\n",
    "import numpy as np\n",
    "import numpy.ma as ma\n",
    "from netCDF4 import Dataset\n",
    "from scipy.ndimage import label, generate_binary_structure\n",
    "from collections import Counter\n",
    "import xarray as xr \n",
    "import pandas as pd"
   ]
  },
  {
   "cell_type": "code",
   "execution_count": null,
   "metadata": {
    "collapsed": false
   },
   "outputs": [],
   "source": [
    "# Grab defined variables from 2kbub.nc\n",
    "\n",
    "ncfile = '/data/slasher/a/engelse2/Entrain/trim_NewHalfEntrain_nssl_100_000050.nc' \n",
    "fl = Dataset(ncfile,mode='r')\n",
    "\n",
    "t = fl.variables['time']\n",
    "x = fl.variables['xh']\n",
    "y = fl.variables['yh']\n",
    "z = fl.variables['z']\n",
    "#u = fl.variables['uinterp'][:]\n",
    "#v = fl.variables['vinterp'][:]                   #read in velocity vecotrs interpolated between scalar points\n",
    "#w = fl.variables['winterp'][:]\n",
    "#zvort = fl.variables['zvort'][:]\n",
    "#uh = fl.variables['uh']\n",
    "#th = fl.variables['thpert'][:]\n",
    "#theta = fl.variables['th'][:]\n",
    "#dbz = fl.variables['dbz'][:]\n",
    "#prs = fl.variables['prs'][:]                \n",
    "qv = fl.variables['qv'][:]\n",
    "qr = fl.variables['qr'][:]\n",
    "qg = fl.variables['qg'][:]\n",
    "qs = fl.variables['qs'][:]\n",
    "qc1 = fl.variables['qc'][:]\n",
    "qi1 = fl.variables['qi'][:]\n",
    "qhl = fl.variables['qhl'][:]\n",
    "# prspert1 = fl.variables['prspert'][:]\n",
    "#print(np.shape(x))\n",
    "\n",
    "#make qtotal\n",
    "qtot1 = (qr+qg+qs+qc1+qi1+qhl)*1000.\n",
    "#print(np.max(uh[6]))\n",
    "qtotymax1 = np.amax(qtot1, axis=2)\n",
    "# prsmax1 = np.amax(prspert1, axis=2)\n",
    "qcmax1 = np.amax(qc1,axis=2)"
   ]
  },
  {
   "cell_type": "code",
   "execution_count": null,
   "metadata": {
    "collapsed": false
   },
   "outputs": [],
   "source": [
    "ncfile = '/data/slasher/a/engelse2/Entrain/trim_NewHalfEntrain_nssl_100_000060.nc' \n",
    "fl = Dataset(ncfile,mode='r')\n",
    "\n",
    "t = fl.variables['time']\n",
    "x = fl.variables['xh']\n",
    "y = fl.variables['yh']\n",
    "z = fl.variables['z']  \n",
    "qv = fl.variables['qv'][:]\n",
    "qr = fl.variables['qr'][:]\n",
    "qg = fl.variables['qg'][:]\n",
    "qs = fl.variables['qs'][:]\n",
    "qc2 = fl.variables['qc'][:]\n",
    "qi2 = fl.variables['qi'][:]\n",
    "qhl = fl.variables['qhl'][:]\n",
    "# prspert2 = fl.variables['prspert'][:]\n",
    "\n",
    "#make qtotal\n",
    "qtot2 = (qr+qg+qs+qc2+qi2+qhl)*1000.\n",
    "qtotymax2 = np.amax(qtot2, axis=2)\n",
    "# prsmax2 = np.amax(prspert2, axis=2)\n",
    "qcmax2 = np.amax(qc2,axis=2)"
   ]
  },
  {
   "cell_type": "code",
   "execution_count": null,
   "metadata": {
    "collapsed": true
   },
   "outputs": [],
   "source": [
    "ncfile = '/data/slasher/a/engelse2/Entrain/trim_NewHalfEntrain_nssl_100_000070.nc' \n",
    "fl = Dataset(ncfile,mode='r')\n",
    "\n",
    "t = fl.variables['time']\n",
    "x = fl.variables['xh']\n",
    "y = fl.variables['yh']\n",
    "z = fl.variables['z']  \n",
    "qv = fl.variables['qv'][:]\n",
    "qr = fl.variables['qr'][:]\n",
    "qg = fl.variables['qg'][:]\n",
    "qs = fl.variables['qs'][:]\n",
    "qc3 = fl.variables['qc'][:]\n",
    "qi3 = fl.variables['qi'][:]\n",
    "qhl = fl.variables['qhl'][:]\n",
    "# prspert3 = fl.variables['prspert'][:]\n",
    "\n",
    "#make qtotal\n",
    "qtot3 = (qr+qg+qs+qc3+qi3+qhl)*1000.\n",
    "qtotymax3 = np.amax(qtot3, axis=2)\n",
    "# prsmax3 = np.amax(prspert3, axis=2)\n",
    "qcmax3 = np.amax(qc3,axis=2)"
   ]
  },
  {
   "cell_type": "code",
   "execution_count": null,
   "metadata": {
    "collapsed": true
   },
   "outputs": [],
   "source": [
    "ncfile = '/data/slasher/a/engelse2/Entrain/trim_NewHalfEntrain_nssl_100_000080.nc' \n",
    "fl = Dataset(ncfile,mode='r')\n",
    "\n",
    "t = fl.variables['time']\n",
    "x = fl.variables['xh']\n",
    "y = fl.variables['yh']\n",
    "z = fl.variables['z']\n",
    "#u = fl.variables['uinterp'][:]\n",
    "#v = fl.variables['vinterp'][:]                   #read in velocity vecotrs interpolated between scalar points\n",
    "#w = fl.variables['winterp'][:]\n",
    "#zvort = fl.variables['zvort'][:]\n",
    "#uh = fl.variables['uh']\n",
    "#th = fl.variables['thpert'][:]\n",
    "#theta = fl.variables['th'][:]\n",
    "#dbz = fl.variables['dbz'][:]\n",
    "#prs = fl.variables['prs'][:]                \n",
    "qv = fl.variables['qv'][:]\n",
    "qr = fl.variables['qr'][:]\n",
    "qg = fl.variables['qg'][:]\n",
    "qs = fl.variables['qs'][:]\n",
    "qc4 = fl.variables['qc'][:]\n",
    "qi4 = fl.variables['qi'][:]\n",
    "qhl = fl.variables['qhl'][:]\n",
    "# prspert4 = fl.variables['prspert'][:]\n",
    "\n",
    "#make qtotal\n",
    "qtot4 = (qr+qg+qs+qc4+qi4+qhl)*1000.\n",
    "#print(np.max(uh[6]))\n",
    "qtotymax4 = np.amax(qtot4, axis=2)\n",
    "# prsmax4 = np.amax(prspert4, axis=2)\n",
    "qcmax4 = np.amax(qc4,axis=2)"
   ]
  },
  {
   "cell_type": "code",
   "execution_count": null,
   "metadata": {
    "collapsed": false
   },
   "outputs": [],
   "source": [
    "ncfile = '/data/slasher/a/engelse2/Entrain/trim_NewHalfEntrain_nssl_100_000090.nc' \n",
    "fl = Dataset(ncfile,mode='r')\n",
    "\n",
    "t = fl.variables['time']\n",
    "x = fl.variables['xh']\n",
    "y = fl.variables['yh']\n",
    "z = fl.variables['z']  \n",
    "qv = fl.variables['qv'][:]\n",
    "qr = fl.variables['qr'][:]\n",
    "qg = fl.variables['qg'][:]\n",
    "qs = fl.variables['qs'][:]\n",
    "qc5 = fl.variables['qc'][:]\n",
    "qi5 = fl.variables['qi'][:]\n",
    "qhl = fl.variables['qhl'][:]\n",
    "# prspert5 = fl.variables['prspert'][:]\n",
    "\n",
    "#make qtotal\n",
    "qtot5 = (qr+qg+qs+qc5+qi5+qhl)*1000.\n",
    "qtotymax5 = np.amax(qtot5, axis=2)\n",
    "# prsmax5 = np.amax(prspert5, axis=2)\n",
    "qcmax5 = np.amax(qc5,axis=2)"
   ]
  },
  {
   "cell_type": "code",
   "execution_count": 14,
   "metadata": {
    "collapsed": true
   },
   "outputs": [],
   "source": [
    "ncfile = '/data/slasher/a/engelse2/Entrain/trim_NewHalfEntrain_nssl_100_000100.nc' \n",
    "fl = Dataset(ncfile,mode='r')\n",
    "\n",
    "t = fl.variables['time']\n",
    "x = fl.variables['xh']\n",
    "y = fl.variables['yh']\n",
    "z = fl.variables['z']  \n",
    "w = fl.variables['winterp'][:]\n",
    "qv = fl.variables['qv'][:]\n",
    "qr = fl.variables['qr'][:]\n",
    "qg = fl.variables['qg'][:]\n",
    "qs = fl.variables['qs'][:]\n",
    "qc6 = fl.variables['qc'][:]\n",
    "qi6 = fl.variables['qi'][:]\n",
    "qhl = fl.variables['qhl'][:]\n",
    "# prspert6 = fl.variables['prspert'][:]\n",
    "\n",
    "#make qtotal\n",
    "qtot6 = (qr+qg+qs+qc6+qi6+qhl)*1000.\n",
    "qtotymax6 = np.amax(qtot6, axis=2)\n",
    "# prsmax6 = np.amax(prspert6, axis=2)\n",
    "qcmax6 = np.amax(qc6,axis=2)"
   ]
  },
  {
   "cell_type": "code",
   "execution_count": 15,
   "metadata": {
    "collapsed": false
   },
   "outputs": [
    {
     "name": "stdout",
     "output_type": "stream",
     "text": [
      "5.46986\n"
     ]
    }
   ],
   "source": [
    "print(np.max(w[0,20,:,:]))"
   ]
  },
  {
   "cell_type": "code",
   "execution_count": 16,
   "metadata": {
    "collapsed": false
   },
   "outputs": [],
   "source": [
    "ncfile = '/data/slasher/a/engelse2/Entrain/trim_NewHalfEntrain_nssl_100_000110.nc' \n",
    "fl = Dataset(ncfile,mode='r')\n",
    "\n",
    "t = fl.variables['time']\n",
    "x = fl.variables['xh']\n",
    "y = fl.variables['yh']\n",
    "z = fl.variables['z']\n",
    "#u = fl.variables['uinterp'][:]\n",
    "#v = fl.variables['vinterp'][:]                   #read in velocity vecotrs interpolated between scalar points\n",
    "w = fl.variables['winterp'][:]\n",
    "#zvort = fl.variables['zvort'][:]\n",
    "#uh = fl.variables['uh']\n",
    "#th = fl.variables['thpert'][:]\n",
    "#theta = fl.variables['th'][:]\n",
    "#dbz = fl.variables['dbz'][:]\n",
    "#prs = fl.variables['prs'][:]                \n",
    "qv = fl.variables['qv'][:]\n",
    "qr = fl.variables['qr'][:]\n",
    "qg = fl.variables['qg'][:]\n",
    "qs = fl.variables['qs'][:]\n",
    "qc7 = fl.variables['qc'][:]\n",
    "qi7 = fl.variables['qi'][:]\n",
    "qhl = fl.variables['qhl'][:]\n",
    "# prspert7 = fl.variables['prspert'][:]\n",
    "\n",
    "#make qtotal\n",
    "qtot7 = (qr+qg+qs+qc7+qi7+qhl)*1000.\n",
    "qtotymax7 = np.amax(qtot7, axis=2)\n",
    "# prsmax7 = np.amax(prspert7, axis=2)\n",
    "qcmax7 = np.amax(qc7,axis=2)"
   ]
  },
  {
   "cell_type": "code",
   "execution_count": 17,
   "metadata": {
    "collapsed": false
   },
   "outputs": [
    {
     "name": "stdout",
     "output_type": "stream",
     "text": [
      "6.76721\n"
     ]
    }
   ],
   "source": [
    "print(np.max(w[0,20,:,:]))"
   ]
  },
  {
   "cell_type": "code",
   "execution_count": 7,
   "metadata": {
    "collapsed": true
   },
   "outputs": [],
   "source": [
    "ncfile = '/data/slasher/a/engelse2/Entrain/trim_NewHalfEntrain_nssl_100_000120.nc' \n",
    "fl = Dataset(ncfile,mode='r')\n",
    "\n",
    "t = fl.variables['time']\n",
    "x = fl.variables['xh']\n",
    "y = fl.variables['yh']\n",
    "z = fl.variables['z']  \n",
    "qv = fl.variables['qv'][:]\n",
    "qr = fl.variables['qr'][:]\n",
    "qg = fl.variables['qg'][:]\n",
    "qs = fl.variables['qs'][:]\n",
    "qc8 = fl.variables['qc'][:]\n",
    "qi8 = fl.variables['qi'][:]\n",
    "qhl = fl.variables['qhl'][:]\n",
    "# prspert8 = fl.variables['prspert'][:]\n",
    "\n",
    "#make qtotal\n",
    "qtot8 = (qr+qg+qs+qc8+qi8+qhl)*1000.\n",
    "qtotymax8 = np.amax(qtot8, axis=2)\n",
    "# prsmax8 = np.amax(prspert8, axis=2)\n",
    "qcmax8 = np.amax(qc8,axis=2)"
   ]
  },
  {
   "cell_type": "code",
   "execution_count": null,
   "metadata": {
    "collapsed": false
   },
   "outputs": [],
   "source": [
    "ncfile = '/data/slasher/a/engelse2/Entrain/trim_NewHalfEntrain_nssl_100_000130.nc' \n",
    "fl = Dataset(ncfile,mode='r')\n",
    "\n",
    "t = fl.variables['time']\n",
    "x = fl.variables['xh']\n",
    "y = fl.variables['yh']\n",
    "z = fl.variables['z']  \n",
    "qv = fl.variables['qv'][:]\n",
    "qr = fl.variables['qr'][:]\n",
    "qg = fl.variables['qg'][:]\n",
    "qs = fl.variables['qs'][:]\n",
    "qc9 = fl.variables['qc'][:]\n",
    "qi9 = fl.variables['qi'][:]\n",
    "qhl = fl.variables['qhl'][:]\n",
    "# prspert9 = fl.variables['prspert'][:]\n",
    "\n",
    "#make qtotal\n",
    "qtot9 = (qr+qg+qs+qc9+qi9+qhl)*1000.\n",
    "qtotymax9 = np.amax(qtot9, axis=2)\n",
    "# prsmax9 = np.amax(prspert9, axis=2)\n",
    "qcmax9 = np.amax(qc9,axis=2)"
   ]
  },
  {
   "cell_type": "code",
   "execution_count": null,
   "metadata": {
    "collapsed": true
   },
   "outputs": [],
   "source": [
    "ncfile = '/data/slasher/a/engelse2/Entrain/trim_NewHalfEntrain_nssl_100_000140.nc' \n",
    "fl = Dataset(ncfile,mode='r')\n",
    "\n",
    "t = fl.variables['time']\n",
    "x = fl.variables['xh']\n",
    "y = fl.variables['yh']\n",
    "z = fl.variables['z']  \n",
    "qv = fl.variables['qv'][:]\n",
    "qr = fl.variables['qr'][:]\n",
    "qg = fl.variables['qg'][:]\n",
    "qs = fl.variables['qs'][:]\n",
    "qc10 = fl.variables['qc'][:]\n",
    "qi10 = fl.variables['qi'][:]\n",
    "qhl = fl.variables['qhl'][:]\n",
    "# prspert10 = fl.variables['prspert'][:]\n",
    "\n",
    "#make qtotal\n",
    "qtot10 = (qr+qg+qs+qc10+qi10+qhl)*1000.\n",
    "qtotymax10 = np.amax(qtot10, axis=2)\n",
    "# prsmax10 = np.amax(prspert10, axis=2)\n",
    "qcmax10 = np.amax(qc10,axis=2)"
   ]
  },
  {
   "cell_type": "code",
   "execution_count": null,
   "metadata": {
    "collapsed": true
   },
   "outputs": [],
   "source": [
    "ncfile = '/data/slasher/a/engelse2/Entrain/trim_NewHalfEntrain_nssl_100_000150.nc' \n",
    "fl = Dataset(ncfile,mode='r')\n",
    "\n",
    "t = fl.variables['time']\n",
    "x = fl.variables['xh']\n",
    "y = fl.variables['yh']\n",
    "z = fl.variables['z']  \n",
    "qv = fl.variables['qv'][:]\n",
    "qr = fl.variables['qr'][:]\n",
    "qg = fl.variables['qg'][:]\n",
    "qs = fl.variables['qs'][:]\n",
    "qc11 = fl.variables['qc'][:]\n",
    "qi11 = fl.variables['qi'][:]\n",
    "qhl = fl.variables['qhl'][:]\n",
    "# prspert11 = fl.variables['prspert'][:]\n",
    "\n",
    "#make qtotal\n",
    "qtot11 = (qr+qg+qs+qc11+qi11+qhl)*1000.\n",
    "qtotymax11 = np.amax(qtot11, axis=2)\n",
    "# prsmax11 = np.amax(prspert11, axis=2)\n",
    "qcmax11 = np.amax(qc11,axis=2)"
   ]
  },
  {
   "cell_type": "code",
   "execution_count": null,
   "metadata": {
    "collapsed": true
   },
   "outputs": [],
   "source": [
    "ncfile = '/data/slasher/a/engelse2/Entrain/trim_NewHalfEntrain_nssl_100_000160.nc' \n",
    "fl = Dataset(ncfile,mode='r')\n",
    "\n",
    "t = fl.variables['time']\n",
    "x = fl.variables['xh']\n",
    "y = fl.variables['yh']\n",
    "z = fl.variables['z']  \n",
    "qv = fl.variables['qv'][:]\n",
    "qr = fl.variables['qr'][:]\n",
    "qg = fl.variables['qg'][:]\n",
    "qs = fl.variables['qs'][:]\n",
    "qc12 = fl.variables['qc'][:]\n",
    "qi12 = fl.variables['qi'][:]\n",
    "qhl = fl.variables['qhl'][:]\n",
    "# prspert12 = fl.variables['prspert'][:]\n",
    "\n",
    "#make qtotal\n",
    "qtot12 = (qr+qg+qs+qc12+qi12+qhl)*1000.\n",
    "qtotymax12 = np.amax(qtot12, axis=2)\n",
    "# prsmax12 = np.amax(prspert12, axis=2)\n",
    "qcmax12 = np.amax(qc12,axis=2)"
   ]
  },
  {
   "cell_type": "code",
   "execution_count": null,
   "metadata": {
    "collapsed": false
   },
   "outputs": [],
   "source": [
    "ncfile = '/data/slasher/a/engelse2/Entrain/trim_NewHalfEntrain_nssl_100_000170.nc' \n",
    "fl = Dataset(ncfile,mode='r')\n",
    "\n",
    "t = fl.variables['time']\n",
    "x = fl.variables['xh']\n",
    "y = fl.variables['yh']\n",
    "z = fl.variables['z'] \n",
    "qv = fl.variables['qv'][:]\n",
    "qr = fl.variables['qr'][:]\n",
    "qg = fl.variables['qg'][:]\n",
    "qs = fl.variables['qs'][:]\n",
    "qc13 = fl.variables['qc'][:]\n",
    "qi13 = fl.variables['qi'][:]\n",
    "qhl = fl.variables['qhl'][:]\n",
    "# prspert13 = fl.variables['prspert'][:]\n",
    "\n",
    "#make qtotal\n",
    "qtot13 = (qr+qg+qs+qc13+qi13+qhl)*1000.\n",
    "qtotymax13 = np.amax(qtot13, axis=2)\n",
    "# prsmax13 = np.amax(prspert13, axis=2)\n",
    "qcmax13 = np.amax(qc13,axis=2)"
   ]
  },
  {
   "cell_type": "code",
   "execution_count": null,
   "metadata": {
    "collapsed": true
   },
   "outputs": [],
   "source": [
    "ncfile = '/data/slasher/a/engelse2/Entrain/trim_NewHalfEntrain_nssl_100_000180.nc' \n",
    "fl = Dataset(ncfile,mode='r')\n",
    "\n",
    "t = fl.variables['time']\n",
    "x = fl.variables['xh']\n",
    "y = fl.variables['yh']\n",
    "z = fl.variables['z']  \n",
    "qv = fl.variables['qv'][:]\n",
    "qr = fl.variables['qr'][:]\n",
    "qg = fl.variables['qg'][:]\n",
    "qs = fl.variables['qs'][:]\n",
    "qc14 = fl.variables['qc'][:]\n",
    "qi14 = fl.variables['qi'][:]\n",
    "qhl = fl.variables['qhl'][:]\n",
    "# prspert14 = fl.variables['prspert'][:]\n",
    "\n",
    "#make qtotal\n",
    "qtot14 = (qr+qg+qs+qc14+qi14+qhl)*1000.\n",
    "qtotymax14 = np.amax(qtot14, axis=2)\n",
    "# prsmax14 = np.amax(prspert14, axis=2)\n",
    "qcmax14 = np.amax(qc14,axis=2)"
   ]
  },
  {
   "cell_type": "code",
   "execution_count": null,
   "metadata": {
    "collapsed": true
   },
   "outputs": [],
   "source": [
    "ncfile = '/data/slasher/a/engelse2/Entrain/trim_NewHalfEntrain_nssl_100_000190.nc' \n",
    "fl = Dataset(ncfile,mode='r')\n",
    "\n",
    "t = fl.variables['time']\n",
    "x = fl.variables['xh']\n",
    "y = fl.variables['yh']\n",
    "z = fl.variables['z']  \n",
    "qv = fl.variables['qv'][:]\n",
    "qr = fl.variables['qr'][:]\n",
    "qg = fl.variables['qg'][:]\n",
    "qs = fl.variables['qs'][:]\n",
    "qc15 = fl.variables['qc'][:]\n",
    "qi15 = fl.variables['qi'][:]\n",
    "qhl = fl.variables['qhl'][:]\n",
    "# prspert15 = fl.variables['prspert'][:]\n",
    "\n",
    "#make qtotal\n",
    "qtot15 = (qr+qg+qs+qc15+qi15+qhl)*1000.\n",
    "qtotymax15 = np.amax(qtot15, axis=2)\n",
    "# prsmax15 = np.amax(prspert15, axis=2)\n",
    "qcmax15 = np.amax(qc15,axis=2)"
   ]
  },
  {
   "cell_type": "code",
   "execution_count": null,
   "metadata": {
    "collapsed": true
   },
   "outputs": [],
   "source": [
    "ncfile = '/data/slasher/a/engelse2/Entrain/trim_NewHalfEntrain_nssl_100_000200.nc' \n",
    "fl = Dataset(ncfile,mode='r')\n",
    "\n",
    "t = fl.variables['time']\n",
    "x = fl.variables['xh']\n",
    "y = fl.variables['yh']\n",
    "z = fl.variables['z']           \n",
    "qv = fl.variables['qv'][:]\n",
    "qr = fl.variables['qr'][:]\n",
    "qg = fl.variables['qg'][:]\n",
    "qs = fl.variables['qs'][:]\n",
    "qc16 = fl.variables['qc'][:]\n",
    "qi16 = fl.variables['qi'][:]\n",
    "qhl = fl.variables['qhl'][:]\n",
    "# prspert16 = fl.variables['prspert'][:]\n",
    "\n",
    "#make qtotal\n",
    "qtot16 = (qr+qg+qs+qc16+qi16+qhl)*1000.\n",
    "qtotymax16 = np.amax(qtot16, axis=2)\n",
    "# prsmax16 = np.amax(prspert16, axis=2)\n",
    "qcmax16 = np.amax(qc16,axis=2)"
   ]
  },
  {
   "cell_type": "code",
   "execution_count": null,
   "metadata": {
    "collapsed": true
   },
   "outputs": [],
   "source": [
    "ncfile = '/data/slasher/a/engelse2/Entrain/trim_NewHalfEntrain_nssl_100_000210.nc' \n",
    "fl = Dataset(ncfile,mode='r')\n",
    "\n",
    "t = fl.variables['time']\n",
    "x = fl.variables['xh']\n",
    "y = fl.variables['yh']\n",
    "z = fl.variables['z']           \n",
    "qv = fl.variables['qv'][:]\n",
    "qr = fl.variables['qr'][:]\n",
    "qg = fl.variables['qg'][:]\n",
    "qs = fl.variables['qs'][:]\n",
    "qc17 = fl.variables['qc'][:]\n",
    "qi17 = fl.variables['qi'][:]\n",
    "qhl = fl.variables['qhl'][:]\n",
    "# prspert17 = fl.variables['prspert'][:]\n",
    "\n",
    "#make qtotal\n",
    "qtot17 = (qr+qg+qs+qc17+qi17+qhl)*1000.\n",
    "qtotymax17 = np.amax(qtot17, axis=2)\n",
    "# prsmax17 = np.amax(prspert17, axis=2)\n",
    "qcmax17 = np.amax(qc17,axis=2)"
   ]
  },
  {
   "cell_type": "code",
   "execution_count": null,
   "metadata": {
    "collapsed": true
   },
   "outputs": [],
   "source": [
    "ncfile = '/data/slasher/a/engelse2/Entrain/trim_NewHalfEntrain_nssl_100_000220.nc' \n",
    "fl = Dataset(ncfile,mode='r')\n",
    "\n",
    "t = fl.variables['time']\n",
    "x = fl.variables['xh']\n",
    "y = fl.variables['yh']\n",
    "z = fl.variables['z']           \n",
    "qv = fl.variables['qv'][:]\n",
    "qr = fl.variables['qr'][:]\n",
    "qg = fl.variables['qg'][:]\n",
    "qs = fl.variables['qs'][:]\n",
    "qc18 = fl.variables['qc'][:]\n",
    "qi18 = fl.variables['qi'][:]\n",
    "qhl = fl.variables['qhl'][:]\n",
    "# prspert18 = fl.variables['prspert'][:]\n",
    "\n",
    "#make qtotal\n",
    "qtot18 = (qr+qg+qs+qc18+qi18+qhl)*1000.\n",
    "qtotymax18 = np.amax(qtot18, axis=2)\n",
    "# prsmax18 = np.amax(prspert18, axis=2)\n",
    "qcmax18 = np.amax(qc18,axis=2)"
   ]
  },
  {
   "cell_type": "code",
   "execution_count": null,
   "metadata": {
    "collapsed": true
   },
   "outputs": [],
   "source": [
    "ncfile = '/data/slasher/a/engelse2/Entrain/trim_NewHalfEntrain_nssl_100_000230.nc' \n",
    "fl = Dataset(ncfile,mode='r')\n",
    "\n",
    "t = fl.variables['time']\n",
    "x = fl.variables['xh']\n",
    "y = fl.variables['yh']\n",
    "z = fl.variables['z']           \n",
    "qv = fl.variables['qv'][:]\n",
    "qr = fl.variables['qr'][:]\n",
    "qg = fl.variables['qg'][:]\n",
    "qs = fl.variables['qs'][:]\n",
    "qc19 = fl.variables['qc'][:]\n",
    "qi19 = fl.variables['qi'][:]\n",
    "qhl = fl.variables['qhl'][:]\n",
    "# prspert19 = fl.variables['prspert'][:]\n",
    "\n",
    "#make qtotal\n",
    "qtot19 = (qr+qg+qs+qc19+qi19+qhl)*1000.\n",
    "qtotymax19 = np.amax(qtot19, axis=2)\n",
    "# prsmax19 = np.amax(prspert19, axis=2)\n",
    "qcmax19 = np.amax(qc19,axis=2)"
   ]
  },
  {
   "cell_type": "code",
   "execution_count": null,
   "metadata": {
    "collapsed": true
   },
   "outputs": [],
   "source": [
    "ncfile = '/data/slasher/a/engelse2/Entrain/trim_NewHalfEntrain_nssl_100_000240.nc' \n",
    "fl = Dataset(ncfile,mode='r')\n",
    "\n",
    "t = fl.variables['time']\n",
    "x = fl.variables['xh']\n",
    "y = fl.variables['yh']\n",
    "z = fl.variables['z']           \n",
    "qv = fl.variables['qv'][:]\n",
    "qr = fl.variables['qr'][:]\n",
    "qg = fl.variables['qg'][:]\n",
    "qs = fl.variables['qs'][:]\n",
    "qc20 = fl.variables['qc'][:]\n",
    "qi20 = fl.variables['qi'][:]\n",
    "qhl = fl.variables['qhl'][:]\n",
    "# prspert20 = fl.variables['prspert'][:]\n",
    "\n",
    "#make qtotal\n",
    "qtot20 = (qr+qg+qs+qc20+qi20+qhl)*1000.\n",
    "qtotymax20 = np.amax(qtot20, axis=2)\n",
    "# prsmax20 = np.amax(prspert20, axis=2)\n",
    "qcmax20 = np.amax(qc20,axis=2)"
   ]
  },
  {
   "cell_type": "code",
   "execution_count": null,
   "metadata": {
    "collapsed": true
   },
   "outputs": [],
   "source": [
    "ncfile = '/data/slasher/a/engelse2/Entrain/trim_NewHalfEntrain_nssl_100_000250.nc' \n",
    "fl = Dataset(ncfile,mode='r')\n",
    "\n",
    "t = fl.variables['time']\n",
    "x = fl.variables['xh']\n",
    "y = fl.variables['yh']\n",
    "z = fl.variables['z']           \n",
    "qv = fl.variables['qv'][:]\n",
    "qr = fl.variables['qr'][:]\n",
    "qg = fl.variables['qg'][:]\n",
    "qs = fl.variables['qs'][:]\n",
    "qc21 = fl.variables['qc'][:]\n",
    "qi21 = fl.variables['qi'][:]\n",
    "qhl = fl.variables['qhl'][:]\n",
    "# prspert21 = fl.variables['prspert'][:]\n",
    "\n",
    "#make qtotal\n",
    "qtot21 = (qr+qg+qs+qc21+qi21+qhl)*1000.\n",
    "qtotymax21 = np.amax(qtot21, axis=2)\n",
    "# prsmax21 = np.amax(prspert21, axis=2)\n",
    "qcmax21 = np.amax(qc21,axis=2)"
   ]
  },
  {
   "cell_type": "code",
   "execution_count": null,
   "metadata": {
    "collapsed": true
   },
   "outputs": [],
   "source": [
    "ncfile = '/data/slasher/a/engelse2/Entrain/trim_NewHalfEntrain_nssl_100_000260.nc' \n",
    "fl = Dataset(ncfile,mode='r')\n",
    "\n",
    "t = fl.variables['time']\n",
    "x = fl.variables['xh']\n",
    "y = fl.variables['yh']\n",
    "z = fl.variables['z']           \n",
    "qv = fl.variables['qv'][:]\n",
    "qr = fl.variables['qr'][:]\n",
    "qg = fl.variables['qg'][:]\n",
    "qs = fl.variables['qs'][:]\n",
    "qc22 = fl.variables['qc'][:]\n",
    "qi22 = fl.variables['qi'][:]\n",
    "qhl = fl.variables['qhl'][:]\n",
    "# prspert22 = fl.variables['prspert'][:]\n",
    "\n",
    "#make qtotal\n",
    "qtot22 = (qr+qg+qs+qc22+qi22+qhl)*1000.\n",
    "qtotymax22 = np.amax(qtot22, axis=2)\n",
    "# prsmax22 = np.amax(prspert22, axis=2)\n",
    "qcmax22 = np.amax(qc22,axis=2)"
   ]
  },
  {
   "cell_type": "code",
   "execution_count": null,
   "metadata": {
    "collapsed": true
   },
   "outputs": [],
   "source": [
    "ncfile = '/data/slasher/a/engelse2/Entrain/trim_NewHalfEntrain_nssl_100_000270.nc' \n",
    "fl = Dataset(ncfile,mode='r')\n",
    "\n",
    "t = fl.variables['time']\n",
    "x = fl.variables['xh']\n",
    "y = fl.variables['yh']\n",
    "z = fl.variables['z']           \n",
    "qv = fl.variables['qv'][:]\n",
    "qr = fl.variables['qr'][:]\n",
    "qg = fl.variables['qg'][:]\n",
    "qs = fl.variables['qs'][:]\n",
    "qc23 = fl.variables['qc'][:]\n",
    "qi23 = fl.variables['qi'][:]\n",
    "qhl = fl.variables['qhl'][:]\n",
    "# prspert23 = fl.variables['prspert'][:]\n",
    "\n",
    "#make qtotal\n",
    "qtot23 = (qr+qg+qs+qc23+qi23+qhl)*1000.\n",
    "qtotymax23 = np.amax(qtot23, axis=2)\n",
    "# prsmax23 = np.amax(prspert23, axis=2)\n",
    "qcmax23 = np.amax(qc23,axis=2)"
   ]
  },
  {
   "cell_type": "code",
   "execution_count": null,
   "metadata": {
    "collapsed": true
   },
   "outputs": [],
   "source": [
    "ncfile = '/data/slasher/a/engelse2/Entrain/trim_NewHalfEntrain_nssl_100_000280.nc' \n",
    "fl = Dataset(ncfile,mode='r')\n",
    "\n",
    "t = fl.variables['time']\n",
    "x = fl.variables['xh']\n",
    "y = fl.variables['yh']\n",
    "z = fl.variables['z']           \n",
    "qv = fl.variables['qv'][:]\n",
    "qr = fl.variables['qr'][:]\n",
    "qg = fl.variables['qg'][:]\n",
    "qs = fl.variables['qs'][:]\n",
    "qc24 = fl.variables['qc'][:]\n",
    "qi24 = fl.variables['qi'][:]\n",
    "qhl = fl.variables['qhl'][:]\n",
    "# prspert24 = fl.variables['prspert'][:]\n",
    "\n",
    "#make qtotal\n",
    "qtot24 = (qr+qg+qs+qc24+qi24+qhl)*1000.\n",
    "qtotymax24 = np.amax(qtot24, axis=2)\n",
    "# prsmax24 = np.amax(prspert24, axis=2)\n",
    "qcmax24 = np.amax(qc24,axis=2)"
   ]
  },
  {
   "cell_type": "code",
   "execution_count": null,
   "metadata": {
    "collapsed": true
   },
   "outputs": [],
   "source": [
    "ncfile = '/data/slasher/a/engelse2/Entrain/trim_NewHalfEntrain_nssl_100_000290.nc' \n",
    "fl = Dataset(ncfile,mode='r')\n",
    "\n",
    "t = fl.variables['time']\n",
    "x = fl.variables['xh']\n",
    "y = fl.variables['yh']\n",
    "z = fl.variables['z']           \n",
    "qv = fl.variables['qv'][:]\n",
    "qr = fl.variables['qr'][:]\n",
    "qg = fl.variables['qg'][:]\n",
    "qs = fl.variables['qs'][:]\n",
    "qc25 = fl.variables['qc'][:]\n",
    "qi25 = fl.variables['qi'][:]\n",
    "qhl = fl.variables['qhl'][:]\n",
    "# prspert25 = fl.variables['prspert'][:]\n",
    "\n",
    "#make qtotal\n",
    "qtot25 = (qr+qg+qs+qc25+qi25+qhl)*1000.\n",
    "qtotymax25 = np.amax(qtot25, axis=2)\n",
    "# prsmax25 = np.amax(prspert25, axis=2)\n",
    "qcmax25 = np.amax(qc25,axis=2)"
   ]
  },
  {
   "cell_type": "code",
   "execution_count": null,
   "metadata": {
    "collapsed": true
   },
   "outputs": [],
   "source": [
    "ncfile = '/data/slasher/a/engelse2/Entrain/trim_NewHalfEntrain_nssl_100_000300.nc' \n",
    "fl = Dataset(ncfile,mode='r')\n",
    "\n",
    "t = fl.variables['time']\n",
    "x = fl.variables['xh']\n",
    "y = fl.variables['yh']\n",
    "z = fl.variables['z']           \n",
    "qv = fl.variables['qv'][:]\n",
    "qr = fl.variables['qr'][:]\n",
    "qg = fl.variables['qg'][:]\n",
    "qs = fl.variables['qs'][:]\n",
    "qc26 = fl.variables['qc'][:]\n",
    "qi26 = fl.variables['qi'][:]\n",
    "qhl = fl.variables['qhl'][:]\n",
    "# # prspert26 = fl.variables['prspert'][:]\n",
    "\n",
    "#make qtotal\n",
    "qtot26 = (qr+qg+qs+qc26+qi26+qhl)*1000.\n",
    "qtotymax26 = np.amax(qtot26, axis=2)\n",
    "# prsmax26 = np.amax(prspert26, axis=2)\n",
    "qcmax26 = np.amax(qc26,axis=2)"
   ]
  },
  {
   "cell_type": "code",
   "execution_count": null,
   "metadata": {
    "collapsed": true
   },
   "outputs": [],
   "source": [
    "ncfile = '/data/slasher/a/engelse2/Entrain/trim_NewHalfEntrain_nssl_100_000310.nc' \n",
    "fl = Dataset(ncfile,mode='r')\n",
    "\n",
    "t = fl.variables['time']\n",
    "x = fl.variables['xh']\n",
    "y = fl.variables['yh']\n",
    "z = fl.variables['z']           \n",
    "qv = fl.variables['qv'][:]\n",
    "qr = fl.variables['qr'][:]\n",
    "qg = fl.variables['qg'][:]\n",
    "qs = fl.variables['qs'][:]\n",
    "qc27 = fl.variables['qc'][:]\n",
    "qi27 = fl.variables['qi'][:]\n",
    "qhl = fl.variables['qhl'][:]\n",
    "# prspert27 = fl.variables['prspert'][:]\n",
    "\n",
    "#make qtotal\n",
    "qtot27 = (qr+qg+qs+qc27+qi27+qhl)*1000.\n",
    "qtotymax27 = np.amax(qtot27, axis=2)\n",
    "# prsmax27 = np.amax(prspert27, axis=2)\n",
    "qcmax27 = np.amax(qc27,axis=2)"
   ]
  },
  {
   "cell_type": "code",
   "execution_count": null,
   "metadata": {
    "collapsed": true
   },
   "outputs": [],
   "source": [
    "ncfile = '/data/slasher/a/engelse2/Entrain/trim_NewHalfEntrain_nssl_100_000320.nc' \n",
    "fl = Dataset(ncfile,mode='r')\n",
    "\n",
    "t = fl.variables['time']\n",
    "x = fl.variables['xh']\n",
    "y = fl.variables['yh']\n",
    "z = fl.variables['z']           \n",
    "qv = fl.variables['qv'][:]\n",
    "qr = fl.variables['qr'][:]\n",
    "qg = fl.variables['qg'][:]\n",
    "qs = fl.variables['qs'][:]\n",
    "qc28 = fl.variables['qc'][:]\n",
    "qi28 = fl.variables['qi'][:]\n",
    "qhl = fl.variables['qhl'][:]\n",
    "# prspert28 = fl.variables['prspert'][:]\n",
    "\n",
    "#make qtotal\n",
    "qtot28 = (qr+qg+qs+qc28+qi28+qhl)*1000.\n",
    "qtotymax28 = np.amax(qtot28, axis=2)\n",
    "# prsmax28 = np.amax(prspert28, axis=2)\n",
    "qcmax28 = np.amax(qc28,axis=2)"
   ]
  },
  {
   "cell_type": "code",
   "execution_count": null,
   "metadata": {
    "collapsed": true
   },
   "outputs": [],
   "source": [
    "ncfile = '/data/slasher/a/engelse2/Entrain/trim_NewHalfEntrain_nssl_100_000330.nc' \n",
    "fl = Dataset(ncfile,mode='r')\n",
    "\n",
    "t = fl.variables['time']\n",
    "x = fl.variables['xh']\n",
    "y = fl.variables['yh']\n",
    "z = fl.variables['z']           \n",
    "qv = fl.variables['qv'][:]\n",
    "qr = fl.variables['qr'][:]\n",
    "qg = fl.variables['qg'][:]\n",
    "qs = fl.variables['qs'][:]\n",
    "qc29 = fl.variables['qc'][:]\n",
    "qi29 = fl.variables['qi'][:]\n",
    "qhl = fl.variables['qhl'][:]\n",
    "# prspert29 = fl.variables['prspert'][:]\n",
    "\n",
    "#make qtotal\n",
    "qtot29 = (qr+qg+qs+qc29+qi29+qhl)*1000.\n",
    "qtotymax29 = np.amax(qtot29, axis=2)\n",
    "# prsmax29 = np.amax(prspert29, axis=2)\n",
    "qcmax29 = np.amax(qc29,axis=2)"
   ]
  },
  {
   "cell_type": "code",
   "execution_count": null,
   "metadata": {
    "collapsed": true
   },
   "outputs": [],
   "source": [
    "ncfile = '/data/slasher/a/engelse2/Entrain/trim_NewHalfEntrain_nssl_100_000340.nc' \n",
    "fl = Dataset(ncfile,mode='r')\n",
    "\n",
    "t = fl.variables['time']\n",
    "x = fl.variables['xh']\n",
    "y = fl.variables['yh']\n",
    "z = fl.variables['z']           \n",
    "qv = fl.variables['qv'][:]\n",
    "qr = fl.variables['qr'][:]\n",
    "qg = fl.variables['qg'][:]\n",
    "qs = fl.variables['qs'][:]\n",
    "qc30 = fl.variables['qc'][:]\n",
    "qi30 = fl.variables['qi'][:]\n",
    "qhl = fl.variables['qhl'][:]\n",
    "# prspert30 = fl.variables['prspert'][:]\n",
    "\n",
    "#make qtotal\n",
    "qtot30 = (qr+qg+qs+qc30+qi30+qhl)*1000.\n",
    "qtotymax30 = np.amax(qtot30, axis=2)\n",
    "# prsmax30 = np.amax(prspert30, axis=2)\n",
    "qcmax30 = np.amax(qc30,axis=2)"
   ]
  },
  {
   "cell_type": "code",
   "execution_count": null,
   "metadata": {
    "collapsed": true
   },
   "outputs": [],
   "source": [
    "ncfile = '/data/slasher/a/engelse2/Entrain/trim_NewHalfEntrain_nssl_100_000350.nc' \n",
    "fl = Dataset(ncfile,mode='r')\n",
    "\n",
    "t = fl.variables['time']\n",
    "x = fl.variables['xh']\n",
    "y = fl.variables['yh']\n",
    "z = fl.variables['z']           \n",
    "qv = fl.variables['qv'][:]\n",
    "qr = fl.variables['qr'][:]\n",
    "qg = fl.variables['qg'][:]\n",
    "qs = fl.variables['qs'][:]\n",
    "qc31 = fl.variables['qc'][:]\n",
    "qi31 = fl.variables['qi'][:]\n",
    "qhl = fl.variables['qhl'][:]\n",
    "# prspert31 = fl.variables['prspert'][:]\n",
    "\n",
    "#make qtotal\n",
    "qtot31 = (qr+qg+qs+qc31+qi31+qhl)*1000.\n",
    "qtotymax31 = np.amax(qtot31, axis=2)\n",
    "# prsmax31 = np.amax(prspert31, axis=2)\n",
    "qcmax31 = np.amax(qc31,axis=2)"
   ]
  },
  {
   "cell_type": "code",
   "execution_count": null,
   "metadata": {
    "collapsed": true
   },
   "outputs": [],
   "source": [
    "ncfile = '/data/slasher/a/engelse2/Entrain/trim_NewHalfEntrain_nssl_100_000360.nc' \n",
    "fl = Dataset(ncfile,mode='r')\n",
    "\n",
    "t = fl.variables['time']\n",
    "x = fl.variables['xh']\n",
    "y = fl.variables['yh']\n",
    "z = fl.variables['z']           \n",
    "qv = fl.variables['qv'][:]\n",
    "qr = fl.variables['qr'][:]\n",
    "qg = fl.variables['qg'][:]\n",
    "qs = fl.variables['qs'][:]\n",
    "qc32 = fl.variables['qc'][:]\n",
    "qi32 = fl.variables['qi'][:]\n",
    "qhl = fl.variables['qhl'][:]\n",
    "# prspert32 = fl.variables['prspert'][:]\n",
    "\n",
    "#make qtotal\n",
    "qtot32 = (qr+qg+qs+qc32+qi32+qhl)*1000.\n",
    "qtotymax32 = np.amax(qtot32, axis=2)\n",
    "# prsmax32 = np.amax(prspert32, axis=2)\n",
    "qcmax32 = np.amax(qc32,axis=2)"
   ]
  },
  {
   "cell_type": "code",
   "execution_count": null,
   "metadata": {
    "collapsed": true
   },
   "outputs": [],
   "source": [
    "ncfile = '/data/slasher/a/engelse2/Entrain/trim_NewHalfEntrain_nssl_100_000370.nc' \n",
    "fl = Dataset(ncfile,mode='r')\n",
    "\n",
    "t = fl.variables['time']\n",
    "x = fl.variables['xh']\n",
    "y = fl.variables['yh']\n",
    "z = fl.variables['z']           \n",
    "qv = fl.variables['qv'][:]\n",
    "qr = fl.variables['qr'][:]\n",
    "qg = fl.variables['qg'][:]\n",
    "qs = fl.variables['qs'][:]\n",
    "qc33 = fl.variables['qc'][:]\n",
    "qi33 = fl.variables['qi'][:]\n",
    "qhl = fl.variables['qhl'][:]\n",
    "# prspert33 = fl.variables['prspert'][:]\n",
    "\n",
    "#make qtotal\n",
    "qtot33 = (qr+qg+qs+qc33+qi33+qhl)*1000.\n",
    "qtotymax33 = np.amax(qtot33, axis=2)\n",
    "# prsmax33 = np.amax(prspert33, axis=2)\n",
    "qcmax33 = np.amax(qc33,axis=2)"
   ]
  },
  {
   "cell_type": "code",
   "execution_count": null,
   "metadata": {
    "collapsed": true
   },
   "outputs": [],
   "source": [
    "ncfile = '/data/slasher/a/engelse2/Entrain/trim_NewHalfEntrain_nssl_100_000380.nc' \n",
    "fl = Dataset(ncfile,mode='r') \n",
    "t = fl.variables['time']\n",
    "x = fl.variables['xh']\n",
    "y = fl.variables['yh']\n",
    "z = fl.variables['z']           \n",
    "qv = fl.variables['qv'][:]\n",
    "qr = fl.variables['qr'][:]\n",
    "qg = fl.variables['qg'][:]\n",
    "qs = fl.variables['qs'][:]\n",
    "qc34 = fl.variables['qc'][:]\n",
    "qi34 = fl.variables['qi'][:]\n",
    "qhl = fl.variables['qhl'][:]\n",
    "# prspert34 = fl.variables['prspert'][:]\n",
    "\n",
    "#make qtotal\n",
    "qtot34 = (qr+qg+qs+qc34+qi34+qhl)*1000.\n",
    "qtotymax34 = np.amax(qtot34, axis=2)\n",
    "# prsmax34 = np.amax(prspert34, axis=2)\n",
    "qcmax34 = np.amax(qc34,axis=2)"
   ]
  },
  {
   "cell_type": "code",
   "execution_count": null,
   "metadata": {
    "collapsed": true
   },
   "outputs": [],
   "source": [
    "ncfile = '/data/slasher/a/engelse2/Entrain/trim_NewHalfEntrain_nssl_100_000390.nc' \n",
    "fl = Dataset(ncfile,mode='r')\n",
    "\n",
    "t = fl.variables['time']\n",
    "x = fl.variables['xh']\n",
    "y = fl.variables['yh']\n",
    "z = fl.variables['z']           \n",
    "qv = fl.variables['qv'][:]\n",
    "qr = fl.variables['qr'][:]\n",
    "qg = fl.variables['qg'][:]\n",
    "qs = fl.variables['qs'][:]\n",
    "qc35 = fl.variables['qc'][:]\n",
    "qi35 = fl.variables['qi'][:]\n",
    "qhl = fl.variables['qhl'][:]\n",
    "# prspert35 = fl.variables['prspert'][:]\n",
    "\n",
    "#make qtotal\n",
    "qtot35 = (qr+qg+qs+qc35+qi35+qhl)*1000.\n",
    "qtotymax35 = np.amax(qtot35, axis=2)\n",
    "# prsmax35 = np.amax(prspert35, axis=2)\n",
    "qcmax35 = np.amax(qc35,axis=2)"
   ]
  },
  {
   "cell_type": "code",
   "execution_count": null,
   "metadata": {
    "collapsed": false
   },
   "outputs": [],
   "source": [
    "ncfile = '/data/slasher/a/engelse2/Entrain/trim_NewHalfEntrain_nssl_100_000400.nc' \n",
    "fl = Dataset(ncfile,mode='r')\n",
    "\n",
    "t = fl.variables['time']\n",
    "x = fl.variables['xh']\n",
    "y = fl.variables['yh']\n",
    "z = fl.variables['z']           \n",
    "qv = fl.variables['qv'][:]\n",
    "qr = fl.variables['qr'][:]\n",
    "qg = fl.variables['qg'][:]\n",
    "qs = fl.variables['qs'][:]\n",
    "qc36 = fl.variables['qc'][:]\n",
    "qi36 = fl.variables['qi'][:]\n",
    "qhl = fl.variables['qhl'][:]\n",
    "# prspert36 = fl.variables['prspert'][:]\n",
    "\n",
    "#make qtotal\n",
    "qtot36 = (qr+qg+qs+qc36+qi36+qhl)*1000.\n",
    "qtotymax36 = np.amax(qtot36, axis=2)\n",
    "# prsmax36 = np.amax(prspert36, axis=2)\n",
    "qcmax36 = np.amax(qc36,axis=2)"
   ]
  },
  {
   "cell_type": "code",
   "execution_count": null,
   "metadata": {
    "collapsed": false
   },
   "outputs": [],
   "source": [
    "qtotymax = np.concatenate((qtotymax1,qtotymax2,qtotymax3,qtotymax4,qtotymax5,qtotymax6,qtotymax7,qtotymax8,qtotymax9,qtotymax10,qtotymax11,qtotymax12,qtotymax13,qtotymax14,qtotymax15,qtotymax16,qtotymax17,qtotymax18,qtotymax19,qtotymax20,qtotymax21,qtotymax22,qtotymax23,qtotymax24,qtotymax25,qtotymax26,qtotymax27,qtotymax28,qtotymax29,qtotymax30,qtotymax31,qtotymax32,qtotymax33,qtotymax34,qtotymax35,qtotymax36),axis=0)\n",
    "# prstotymax = np.concatenate((prsmax1,prsmax2,prsmax3,prsmax4,prsmax5,prsmax6,prsmax7,prsmax8,prsmax9,prsmax10,prsmax11,prsmax12,prsmax13,prsmax14,prsmax15,prsmax16,prsmax17,prsmax18,prsmax19,prsmax20,prsmax21,prsmax22,prsmax23,prsmax24,prsmax25,prsmax26,prsmax27,prsmax28,prsmax29,prsmax30,prsmax31,prsmax32,prsmax33,prsmax34,prsmax35,prsmax36),axis=0)\n",
    "qctotzmax = np.concatenate((qcmax1,qcmax2,qcmax3,qcmax4,qcmax5,qcmax6,qcmax7,qcmax8,qcmax9,qcmax10,qcmax11,qcmax12,qcmax13,qcmax14,qcmax15,qcmax16,qcmax17,qcmax18,qcmax19,qcmax20,qcmax21,qcmax22,qcmax23,qcmax24,qcmax25,qcmax26,qcmax27,qcmax28,qcmax29,qcmax30,qcmax31,qcmax32,qcmax33,qcmax34,qcmax35,qcmax36,),axis=0)\n",
    "\n",
    "qctot = np.concatenate((qc1,qc2,qc3,qc4,qc5,qc6,qc7,qc8,qc9,qc10,qc11,qc12,qc13,qc14,qc15,qc16,qc17,qc18,qc19,qc20,qc21,qc22,qc23,qc24,qc25,qc26,qc27,qc28,qc29,qc30,qc31,qc32,qc33,qc34,qc35,qc36),axis=0)\n",
    "# qctotrm = qctot[:,:,0:60,:,:]\n",
    "# qctotlm = qctot[:,:,60:160,:,:]\n",
    "\n",
    "# #starting at 15 min so length of 25\n",
    "# manualmiddle = np.array[420,]"
   ]
  },
  {
   "cell_type": "code",
   "execution_count": null,
   "metadata": {
    "collapsed": false
   },
   "outputs": [],
   "source": [
    "qtotmaxmscar = np.zeros(36)\n",
    "for i in range(np.shape(qtotymax[0]))\n",
    "    qtotmaxmscar[i] = np.max(qtotymax[i,:,:,:])\n",
    "print(qtotmaxmscar)"
   ]
  },
  {
   "cell_type": "code",
   "execution_count": null,
   "metadata": {
    "collapsed": false
   },
   "outputs": [],
   "source": [
    "files = np.arange(0,36,1)\n",
    "#files = np.zeros(26,180,630)\n",
    "print(np.shape(qtotymax))\n",
    "\n",
    "print(np.shape(files))"
   ]
  },
  {
   "cell_type": "code",
   "execution_count": null,
   "metadata": {
    "collapsed": false
   },
   "outputs": [],
   "source": [
    "for i in range(len(files)):\n",
    "    plt.figure(figsize=(20,5))\n",
    "    plt.xlim(0,620)\n",
    "    plt.ylim(0,155)\n",
    "    plt.contourf(qctotzmax[i,:,:],cmap=cm.gist_ncar,levels=np.linspace(0.00001, .005, 500))\n",
    "    plt.colorbar()\n",
    "    plt.title('Composite XZ Qc at time = {} min'.format(5+i), fontsize=20)\n",
    "    grid('on')\n",
    "    savestr = 'half_qctotproj0_'+ str(i) +'.png'\n",
    "    plt.savefig(savestr,dpi = 300)"
   ]
  },
  {
   "cell_type": "code",
   "execution_count": null,
   "metadata": {
    "collapsed": false
   },
   "outputs": [],
   "source": [
    "for i in range(len(files)):\n",
    "    plt.figure(figsize=(20,5))\n",
    "    plt.xlim(0,620)\n",
    "    plt.ylim(0,155)\n",
    "    plt.contourf(qtotymax[i,:,:],cmap=cm.gist_ncar,levels=np.linspace(0.01, 20, 500))\n",
    "    plt.colorbar()\n",
    "    plt.title('Composite XZ Qtot at time = {} min'.format(5+i), fontsize=20)\n",
    "    grid('on')\n",
    "    savestr = 'half_qtotproj0_'+ str(i) +'.png'\n",
    "    plt.savefig(savestr,dpi = 300)"
   ]
  },
  {
   "cell_type": "code",
   "execution_count": null,
   "metadata": {
    "collapsed": false
   },
   "outputs": [],
   "source": [
    "# for i in range(len(files)):\n",
    "#     plt.figure(figsize=(20,5))\n",
    "#     plt.xlim(0,620)\n",
    "#     plt.ylim(0,155)\n",
    "#     plt.contourf(prstotymax[i,:,:],cmap=cm.gist_ncar,levels=np.linspace(-200, 200, 500))\n",
    "#     plt.contour(qtotymax[i,:,:]>2,cmap=cm.gist_ncar,levels=np.linspace(0.01, 20, 500))\n",
    "#     plt.title('Composite XZ Pressure Perturbation at time = {} min'.format(5+i), fontsize=20)\n",
    "#     grid('on')\n",
    "#     plt.colorbar()\n",
    "#     savestr = 'half_prsproj0_'+ str(i) +'.png'\n",
    "#     plt.savefig(savestr,dpi = 300)"
   ]
  },
  {
   "cell_type": "code",
   "execution_count": null,
   "metadata": {
    "collapsed": true
   },
   "outputs": [],
   "source": []
  },
  {
   "cell_type": "code",
   "execution_count": null,
   "metadata": {
    "collapsed": true
   },
   "outputs": [],
   "source": []
  }
 ],
 "metadata": {
  "kernelspec": {
   "display_name": "Python [Root]",
   "language": "python",
   "name": "Python [Root]"
  },
  "language_info": {
   "codemirror_mode": {
    "name": "ipython",
    "version": 2
   },
   "file_extension": ".py",
   "mimetype": "text/x-python",
   "name": "python",
   "nbconvert_exporter": "python",
   "pygments_lexer": "ipython2",
   "version": "2.7.12"
  }
 },
 "nbformat": 4,
 "nbformat_minor": 0
}
