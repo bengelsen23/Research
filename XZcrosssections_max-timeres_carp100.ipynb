{
 "cells": [
  {
   "cell_type": "code",
   "execution_count": 1,
   "metadata": {
    "collapsed": false
   },
   "outputs": [
    {
     "name": "stdout",
     "output_type": "stream",
     "text": [
      "Populating the interactive namespace from numpy and matplotlib\n"
     ]
    }
   ],
   "source": [
    "%pylab inline\n",
    "%matplotlib inline\n",
    "import matplotlib\n",
    "import matplotlib.pyplot as plt\n",
    "from matplotlib import animation\n",
    "import matplotlib.cm as cm\n",
    "import matplotlib.figure as fig\n",
    "from matplotlib.ticker import MultipleLocator, FormatStrFormatter\n",
    "import numpy as np\n",
    "import numpy.ma as ma\n",
    "from netCDF4 import Dataset\n",
    "from scipy.ndimage import label, generate_binary_structure\n",
    "from collections import Counter\n",
    "import xarray as xr \n",
    "import pandas as pd\n",
    "from ipywidgets import interact"
   ]
  },
  {
   "cell_type": "code",
   "execution_count": 3,
   "metadata": {
    "collapsed": false
   },
   "outputs": [],
   "source": [
    "# Grab defined variables from 2kbub.nc\n",
    "\n",
    "ncfile = '/data/slasher/a/engelse2/Entrain/trim_Carp100_Full500_nssl_000050.nc' \n",
    "fl = Dataset(ncfile,mode='r')\n",
    "\n",
    "t = fl.variables['time']\n",
    "x = fl.variables['xh']\n",
    "y = fl.variables['yh']\n",
    "z = fl.variables['z']\n",
    "u1 = fl.variables['upert'][:]\n",
    "v1 = fl.variables['vpert'][:]                   #read in velocity vecotrs interpolated between scalar points\n",
    "w1 = fl.variables['w'][:]          \n",
    "qv = fl.variables['qv'][:]\n",
    "qr = fl.variables['qr'][:]\n",
    "qg = fl.variables['qg'][:]\n",
    "qs = fl.variables['qs'][:]\n",
    "qc1 = fl.variables['qc'][:]\n",
    "qi1 = fl.variables['qi'][:]\n",
    "qhl = fl.variables['qhl'][:]\n",
    "thpert = fl.variables['thpert'][:]\n",
    "prspert1 = fl.variables['prspert'][:]\n",
    "#print(np.shape(x))\n",
    "\n",
    "#make qtotal\n",
    "qtot1 = (qr+qg+qs+qc1+qi1+qhl)*1000.\n",
    "qci1 = (qc1+qi1)*1000.\n",
    "qcimax1 = np.amax(qci1, axis=1)\n",
    "qtotymax1 = np.amax(qtot1, axis=1)\n",
    "prsmax1 = np.amax(prspert1, axis=1)\n",
    "qcmax1 = np.amax(qc1, axis=1)\n",
    "fl.close()"
   ]
  },
  {
   "cell_type": "code",
   "execution_count": 27,
   "metadata": {
    "collapsed": false
   },
   "outputs": [
    {
     "name": "stdout",
     "output_type": "stream",
     "text": [
      "(1, 180, 630, 630)\n"
     ]
    },
    {
     "data": {
      "image/png": "[encoded data removed]",
      "text/plain": [
       "<matplotlib.figure.Figure at 0x2b6115b43690>"
      ]
     },
     "metadata": {},
     "output_type": "display_data"
    }
   ],
   "source": [
    "print(np.shape(qhl))\n",
    "plt.title('55 minutes')\n",
    "plt.contourf(thpert[0,17,0:150,0:150],cmap='seismic',levels=np.linspace(-2.0, 2.0, 50))\n",
    "grid=('on')"
   ]
  },
  {
   "cell_type": "code",
   "execution_count": 4,
   "metadata": {
    "collapsed": false
   },
   "outputs": [],
   "source": [
    "ncfile = '/data/slasher/a/engelse2/Entrain/trim_Carp100_Full500_nssl_000060.nc' \n",
    "fl = Dataset(ncfile,mode='r')\n",
    "\n",
    "t = fl.variables['time']\n",
    "x = fl.variables['xh']\n",
    "y = fl.variables['yh']\n",
    "z = fl.variables['z']\n",
    "u2 = fl.variables['upert'][:]\n",
    "v2 = fl.variables['vpert'][:]                   #read in velocity vecotrs interpolated between scalar points\n",
    "w2 = fl.variables['w'][:]\n",
    "qv = fl.variables['qv'][:]\n",
    "qr = fl.variables['qr'][:]\n",
    "qg = fl.variables['qg'][:]\n",
    "qs = fl.variables['qs'][:]\n",
    "qc2 = fl.variables['qc'][:]\n",
    "qi2 = fl.variables['qi'][:]\n",
    "qhl = fl.variables['qhl'][:]\n",
    "prspert2 = fl.variables['prspert'][:]\n",
    "\n",
    "#make qtotal\n",
    "qtot2 = (qr+qg+qs+qc2+qi2+qhl)*1000.\n",
    "qci2 = (qc2+qi2)*1000.\n",
    "qcimax2 = np.amax(qci2, axis=1)\n",
    "qtotymax2 = np.amax(qtot2, axis=1)\n",
    "prsmax2 = np.amax(prspert2, axis=1)\n",
    "qcmax2 = np.amax(qc2, axis=1)\n",
    "fl.close()"
   ]
  },
  {
   "cell_type": "code",
   "execution_count": 5,
   "metadata": {
    "collapsed": true
   },
   "outputs": [],
   "source": [
    "ncfile = '/data/slasher/a/engelse2/Entrain/trim_Carp100_Full500_nssl_000070.nc' \n",
    "fl = Dataset(ncfile,mode='r')\n",
    "\n",
    "t = fl.variables['time']\n",
    "x = fl.variables['xh']\n",
    "y = fl.variables['yh']\n",
    "z = fl.variables['z']  \n",
    "u3 = fl.variables['upert'][:]\n",
    "v3 = fl.variables['vpert'][:]                   #read in velocity vecotrs interpolated between scalar points\n",
    "w3 = fl.variables['w'][:]\n",
    "qv = fl.variables['qv'][:]\n",
    "qr = fl.variables['qr'][:]\n",
    "qg = fl.variables['qg'][:]\n",
    "qs = fl.variables['qs'][:]\n",
    "qc3 = fl.variables['qc'][:]\n",
    "qi3 = fl.variables['qi'][:]\n",
    "qhl = fl.variables['qhl'][:]\n",
    "prspert3 = fl.variables['prspert'][:]\n",
    "\n",
    "#make qtotal\n",
    "qtot3 = (qr+qg+qs+qc3+qi3+qhl)*1000.\n",
    "qci3 = (qc3+qi3)*1000.\n",
    "qcimax3 = np.amax(qci3, axis=1)\n",
    "qtotymax3 = np.amax(qtot3, axis=1)\n",
    "prsmax3 = np.amax(prspert3, axis=1)\n",
    "qcmax3 = np.amax(qc3, axis=1)\n",
    "fl.close()"
   ]
  },
  {
   "cell_type": "code",
   "execution_count": 6,
   "metadata": {
    "collapsed": true
   },
   "outputs": [],
   "source": [
    "ncfile = '/data/slasher/a/engelse2/Entrain/trim_Carp100_Full500_nssl_000080.nc' \n",
    "fl = Dataset(ncfile,mode='r')\n",
    "\n",
    "t = fl.variables['time']\n",
    "x = fl.variables['xh']\n",
    "y = fl.variables['yh']\n",
    "z = fl.variables['z']\n",
    "u4 = fl.variables['upert'][:]\n",
    "v4 = fl.variables['vpert'][:]                   #read in velocity vecotrs interpolated between scalar points\n",
    "w4 = fl.variables['w'][:]      \n",
    "qv = fl.variables['qv'][:]\n",
    "qr = fl.variables['qr'][:]\n",
    "qg = fl.variables['qg'][:]\n",
    "qs = fl.variables['qs'][:]\n",
    "qc4 = fl.variables['qc'][:]\n",
    "qi4 = fl.variables['qi'][:]\n",
    "qhl = fl.variables['qhl'][:]\n",
    "prspert4 = fl.variables['prspert'][:]\n",
    "\n",
    "#make qtotal\n",
    "qtot4 = (qr+qg+qs+qc4+qi4+qhl)*1000.\n",
    "qci4 = (qc4+qi4)*1000.\n",
    "qcimax4 = np.amax(qci4, axis=1)\n",
    "qtotymax4 = np.amax(qtot4, axis=1)\n",
    "prsmax4 = np.amax(prspert4, axis=1)\n",
    "qcmax4 = np.amax(qc4, axis=1)\n",
    "fl.close()"
   ]
  },
  {
   "cell_type": "code",
   "execution_count": 7,
   "metadata": {
    "collapsed": true
   },
   "outputs": [],
   "source": [
    "ncfile = '/data/slasher/a/engelse2/Entrain/trim_Carp100_Full500_nssl_000090.nc' \n",
    "fl = Dataset(ncfile,mode='r')\n",
    "\n",
    "t = fl.variables['time']\n",
    "x = fl.variables['xh']\n",
    "y = fl.variables['yh']\n",
    "z = fl.variables['z']  \n",
    "u5 = fl.variables['upert'][:]\n",
    "v5 = fl.variables['vpert'][:]                   #read in velocity vecotrs interpolated between scalar points\n",
    "w5 = fl.variables['w'][:]\n",
    "qv = fl.variables['qv'][:]\n",
    "qr = fl.variables['qr'][:]\n",
    "qg = fl.variables['qg'][:]\n",
    "qs = fl.variables['qs'][:]\n",
    "qc5 = fl.variables['qc'][:]\n",
    "qi5 = fl.variables['qi'][:]\n",
    "qhl = fl.variables['qhl'][:]\n",
    "prspert5 = fl.variables['prspert'][:]\n",
    "\n",
    "#make qtotal\n",
    "qtot5 = (qr+qg+qs+qc5+qi5+qhl)*1000.\n",
    "qci5 = (qc5+qi5)*1000.\n",
    "qcimax5 = np.amax(qci5, axis=1)\n",
    "qtotymax5 = np.amax(qtot5, axis=1)\n",
    "prsmax5 = np.amax(prspert5, axis=1)\n",
    "qcmax5 = np.amax(qc5, axis=1)\n",
    "fl.close()"
   ]
  },
  {
   "cell_type": "code",
   "execution_count": 8,
   "metadata": {
    "collapsed": true
   },
   "outputs": [],
   "source": [
    "ncfile = '/data/slasher/a/engelse2/Entrain/trim_Carp100_Full500_nssl_000100.nc' \n",
    "fl = Dataset(ncfile,mode='r')\n",
    "\n",
    "t = fl.variables['time']\n",
    "x = fl.variables['xh']\n",
    "y = fl.variables['yh']\n",
    "z = fl.variables['z']  \n",
    "u6 = fl.variables['upert'][:]\n",
    "v6 = fl.variables['vpert'][:]                   #read in velocity vecotrs interpolated between scalar points\n",
    "w6 = fl.variables['w'][:]\n",
    "qv = fl.variables['qv'][:]\n",
    "qr = fl.variables['qr'][:]\n",
    "qg = fl.variables['qg'][:]\n",
    "qs = fl.variables['qs'][:]\n",
    "qc6 = fl.variables['qc'][:]\n",
    "qi6 = fl.variables['qi'][:]\n",
    "qhl = fl.variables['qhl'][:]\n",
    "prspert6 = fl.variables['prspert'][:]\n",
    "\n",
    "#make qtotal\n",
    "qtot6 = (qr+qg+qs+qc6+qi6+qhl)*1000.\n",
    "qci6 = (qc6+qi6)*1000.\n",
    "qcimax6 = np.amax(qci6, axis=1)\n",
    "qtotymax6 = np.amax(qtot6, axis=1)\n",
    "prsmax6 = np.amax(prspert6, axis=1)\n",
    "qcmax6 = np.amax(qc6, axis=1)"
   ]
  },
  {
   "cell_type": "code",
   "execution_count": 4,
   "metadata": {
    "collapsed": true
   },
   "outputs": [],
   "source": [
    "ncfile = '/data/slasher/a/engelse2/Entrain/trim_Carp100_Full500_nssl_000110.nc' \n",
    "fl = Dataset(ncfile,mode='r')\n",
    "\n",
    "t = fl.variables['time']\n",
    "x = fl.variables['xh']\n",
    "y = fl.variables['yh']\n",
    "z = fl.variables['z']\n",
    "u7 = fl.variables['upert'][:]\n",
    "v7 = fl.variables['vpert'][:]                   #read in velocity vecotrs interpolated between scalar points\n",
    "w7 = fl.variables['w'][:]        \n",
    "qv = fl.variables['qv'][:]\n",
    "qr = fl.variables['qr'][:]\n",
    "qg = fl.variables['qg'][:]\n",
    "qs = fl.variables['qs'][:]\n",
    "qc7 = fl.variables['qc'][:]\n",
    "qi7 = fl.variables['qi'][:]\n",
    "qhl = fl.variables['qhl'][:]\n",
    "thpert = fl.variables['thpert'][:]\n",
    "prspert7 = fl.variables['prspert'][:]\n",
    "\n",
    "#make qtotal\n",
    "qtot7 = (qr+qg+qs+qc7+qi7+qhl)*1000.\n",
    "qci7 = (qc7+qi7)*1000.\n",
    "qcimax7 = np.amax(qci7, axis=1)\n",
    "qtotymax7 = np.amax(qtot7, axis=1)\n",
    "prsmax7 = np.amax(prspert7, axis=1)\n",
    "qcmax7 = np.amax(qc7, axis=1)"
   ]
  },
  {
   "cell_type": "code",
   "execution_count": 11,
   "metadata": {
    "collapsed": false
   },
   "outputs": [
    {
     "name": "stdout",
     "output_type": "stream",
     "text": [
      "(1, 180, 630, 630)\n"
     ]
    },
    {
     "data": {
      "image/png": "[encoded data removed]",
      "text/plain": [
       "<matplotlib.figure.Figure at 0x2abc4deb5490>"
      ]
     },
     "metadata": {},
     "output_type": "display_data"
    }
   ],
   "source": [
    "print(np.shape(qhl))\n",
    "plt.title('61 minutes')\n",
    "plt.contourf(thpert[0,28,0:250,0:250],cmap='seismic',levels=np.linspace(-2.0, 2.0, 50))\n",
    "grid=('on')"
   ]
  },
  {
   "cell_type": "code",
   "execution_count": 10,
   "metadata": {
    "collapsed": true
   },
   "outputs": [],
   "source": [
    "ncfile = '/data/slasher/a/engelse2/Entrain/trim_Carp100_Full500_nssl_000120.nc' \n",
    "fl = Dataset(ncfile,mode='r')\n",
    "\n",
    "t = fl.variables['time']\n",
    "x = fl.variables['xh']\n",
    "y = fl.variables['yh']\n",
    "z = fl.variables['z']\n",
    "u8 = fl.variables['upert'][:]\n",
    "v8 = fl.variables['vpert'][:]                   #read in velocity vecotrs interpolated between scalar points\n",
    "w8 = fl.variables['w'][:]\n",
    "qv = fl.variables['qv'][:]\n",
    "qr = fl.variables['qr'][:]\n",
    "qg = fl.variables['qg'][:]\n",
    "qs = fl.variables['qs'][:]\n",
    "qc8 = fl.variables['qc'][:]\n",
    "qi8 = fl.variables['qi'][:]\n",
    "qhl = fl.variables['qhl'][:]\n",
    "prspert8 = fl.variables['prspert'][:]\n",
    "\n",
    "#make qtotal\n",
    "qtot8 = (qr+qg+qs+qc8+qi8+qhl)*1000.\n",
    "qci8 = (qc8+qi8)*1000.\n",
    "qcimax8 = np.amax(qci8, axis=1)\n",
    "qtotymax8 = np.amax(qtot8, axis=1)\n",
    "prsmax8 = np.amax(prspert8, axis=1)\n",
    "qcmax8 = np.amax(qc8, axis=1)\n",
    "fl.close()"
   ]
  },
  {
   "cell_type": "code",
   "execution_count": 11,
   "metadata": {
    "collapsed": true
   },
   "outputs": [],
   "source": [
    "ncfile = '/data/slasher/a/engelse2/Entrain/trim_Carp100_Full500_nssl_000130.nc' \n",
    "fl = Dataset(ncfile,mode='r')\n",
    "\n",
    "t = fl.variables['time']\n",
    "x = fl.variables['xh']\n",
    "y = fl.variables['yh']\n",
    "z = fl.variables['z']\n",
    "u9 = fl.variables['upert'][:]\n",
    "v9 = fl.variables['vpert'][:]                   #read in velocity vecotrs interpolated between scalar points\n",
    "w9 = fl.variables['w'][:]\n",
    "qv = fl.variables['qv'][:]\n",
    "qr = fl.variables['qr'][:]\n",
    "qg = fl.variables['qg'][:]\n",
    "qs = fl.variables['qs'][:]\n",
    "qc9 = fl.variables['qc'][:]\n",
    "qi9 = fl.variables['qi'][:]\n",
    "qhl = fl.variables['qhl'][:]\n",
    "prspert9 = fl.variables['prspert'][:]\n",
    "\n",
    "#make qtotal\n",
    "qtot9 = (qr+qg+qs+qc9+qi9+qhl)*1000.\n",
    "qci9 = (qc9+qi9)*1000.\n",
    "qcimax9 = np.amax(qci9, axis=1)\n",
    "qtotymax9 = np.amax(qtot9, axis=1)\n",
    "prsmax9 = np.amax(prspert9, axis=1)\n",
    "qcmax9 = np.amax(qc9, axis=1)\n",
    "fl.close()"
   ]
  },
  {
   "cell_type": "code",
   "execution_count": 12,
   "metadata": {
    "collapsed": true
   },
   "outputs": [],
   "source": [
    "ncfile = '/data/slasher/a/engelse2/Entrain/trim_Carp100_Full500_nssl_000140.nc' \n",
    "fl = Dataset(ncfile,mode='r')\n",
    "\n",
    "t = fl.variables['time']\n",
    "x = fl.variables['xh']\n",
    "y = fl.variables['yh']\n",
    "z = fl.variables['z']\n",
    "u10 = fl.variables['upert'][:]\n",
    "v10= fl.variables['vpert'][:]                   #read in velocity vecotrs interpolated between scalar points\n",
    "w10 = fl.variables['w'][:]\n",
    "qv = fl.variables['qv'][:]\n",
    "qr = fl.variables['qr'][:]\n",
    "qg = fl.variables['qg'][:]\n",
    "qs = fl.variables['qs'][:]\n",
    "qc10 = fl.variables['qc'][:]\n",
    "qi10 = fl.variables['qi'][:]\n",
    "qhl = fl.variables['qhl'][:]\n",
    "prspert10 = fl.variables['prspert'][:]\n",
    "\n",
    "#make qtotal\n",
    "qtot10 = (qr+qg+qs+qc10+qi10+qhl)*1000.\n",
    "qci10 = (qc10+qi10)*1000.\n",
    "qcimax10 = np.amax(qci10, axis=1)\n",
    "qtotymax10 = np.amax(qtot10, axis=1)\n",
    "prsmax10 = np.amax(prspert10, axis=1)\n",
    "qcmax10 = np.amax(qc10, axis=1)\n",
    "fl.close()"
   ]
  },
  {
   "cell_type": "code",
   "execution_count": 13,
   "metadata": {
    "collapsed": true
   },
   "outputs": [],
   "source": [
    "ncfile = '/data/slasher/a/engelse2/Entrain/trim_Carp100_Full500_nssl_000150.nc' \n",
    "fl = Dataset(ncfile,mode='r')\n",
    "\n",
    "t = fl.variables['time']\n",
    "x = fl.variables['xh']\n",
    "y = fl.variables['yh']\n",
    "z = fl.variables['z'] \n",
    "u11 = fl.variables['upert'][:]\n",
    "v11 = fl.variables['vpert'][:]                   #read in velocity vecotrs interpolated between scalar points\n",
    "w11 = fl.variables['w'][:]\n",
    "qv = fl.variables['qv'][:]\n",
    "qr = fl.variables['qr'][:]\n",
    "qg = fl.variables['qg'][:]\n",
    "qs = fl.variables['qs'][:]\n",
    "qc11 = fl.variables['qc'][:]\n",
    "qi11 = fl.variables['qi'][:]\n",
    "qhl = fl.variables['qhl'][:]\n",
    "prspert11 = fl.variables['prspert'][:]\n",
    "\n",
    "#make qtotal\n",
    "qtot11 = (qr+qg+qs+qc11+qi11+qhl)*1000.\n",
    "qci11 = (qc11+qi11)*1000.\n",
    "qcimax11 = np.amax(qci11, axis=1)\n",
    "qtotymax11 = np.amax(qtot11, axis=1)\n",
    "prsmax11 = np.amax(prspert11, axis=1)\n",
    "qcmax11 = np.amax(qc11, axis=1)\n",
    "fl.close()"
   ]
  },
  {
   "cell_type": "code",
   "execution_count": 14,
   "metadata": {
    "collapsed": true
   },
   "outputs": [],
   "source": [
    "ncfile = '/data/slasher/a/engelse2/Entrain/trim_Carp100_Full500_nssl_000160.nc' \n",
    "fl = Dataset(ncfile,mode='r')\n",
    "\n",
    "t = fl.variables['time']\n",
    "x = fl.variables['xh']\n",
    "y = fl.variables['yh']\n",
    "z = fl.variables['z']\n",
    "u12 = fl.variables['upert'][:]\n",
    "v12 = fl.variables['vpert'][:]                   #read in velocity vecotrs interpolated between scalar points\n",
    "w12 = fl.variables['w'][:]\n",
    "qv = fl.variables['qv'][:]\n",
    "qr = fl.variables['qr'][:]\n",
    "qg = fl.variables['qg'][:]\n",
    "qs = fl.variables['qs'][:]\n",
    "qc12 = fl.variables['qc'][:]\n",
    "qi12 = fl.variables['qi'][:]\n",
    "qhl = fl.variables['qhl'][:]\n",
    "prspert12 = fl.variables['prspert'][:]\n",
    "\n",
    "#make qtotal\n",
    "qtot12 = (qr+qg+qs+qc12+qi12+qhl)*1000.\n",
    "qci12 = (qc12+qi12)*1000.\n",
    "qcimax12 = np.amax(qci12, axis=1)\n",
    "qtotymax12 = np.amax(qtot12, axis=1)\n",
    "prsmax12 = np.amax(prspert12, axis=1)\n",
    "qcmax12 = np.amax(qc12, axis=1)\n",
    "fl.close()"
   ]
  },
  {
   "cell_type": "code",
   "execution_count": 15,
   "metadata": {
    "collapsed": false
   },
   "outputs": [],
   "source": [
    "ncfile = '/data/slasher/a/engelse2/Entrain/trim_Carp100_Full500_nssl_000170.nc' \n",
    "fl = Dataset(ncfile,mode='r')\n",
    "\n",
    "t = fl.variables['time']\n",
    "x = fl.variables['xh']\n",
    "y = fl.variables['yh']\n",
    "z = fl.variables['z'] \n",
    "u13 = fl.variables['upert'][:]\n",
    "v13 = fl.variables['vpert'][:]                   #read in velocity vecotrs interpolated between scalar points\n",
    "w13 = fl.variables['w'][:]\n",
    "qv = fl.variables['qv'][:]\n",
    "qr = fl.variables['qr'][:]\n",
    "qg = fl.variables['qg'][:]\n",
    "qs = fl.variables['qs'][:]\n",
    "qc13 = fl.variables['qc'][:]\n",
    "qi13 = fl.variables['qi'][:]\n",
    "qhl = fl.variables['qhl'][:]\n",
    "prspert13 = fl.variables['prspert'][:]\n",
    "\n",
    "#make qtotal\n",
    "qtot13 = (qr+qg+qs+qc13+qi13+qhl)*1000.\n",
    "qci13 = (qc13+qi13)*1000.\n",
    "qcimax13 = np.amax(qci13, axis=1)\n",
    "qtotymax13 = np.amax(qtot13, axis=1)\n",
    "prsmax13 = np.amax(prspert13, axis=1)\n",
    "qcmax13 = np.amax(qc13, axis=1)\n",
    "fl.close()"
   ]
  },
  {
   "cell_type": "code",
   "execution_count": 16,
   "metadata": {
    "collapsed": true
   },
   "outputs": [],
   "source": [
    "ncfile = '/data/slasher/a/engelse2/Entrain/trim_Carp100_Full500_nssl_000180.nc' \n",
    "fl = Dataset(ncfile,mode='r')\n",
    "\n",
    "t = fl.variables['time']\n",
    "x = fl.variables['xh']\n",
    "y = fl.variables['yh']\n",
    "z = fl.variables['z']\n",
    "u14 = fl.variables['upert'][:]\n",
    "v14 = fl.variables['vpert'][:]                   #read in velocity vecotrs interpolated between scalar points\n",
    "w14 = fl.variables['w'][:]\n",
    "qv = fl.variables['qv'][:]\n",
    "qr = fl.variables['qr'][:]\n",
    "qg = fl.variables['qg'][:]\n",
    "qs = fl.variables['qs'][:]\n",
    "qc14 = fl.variables['qc'][:]\n",
    "qi14 = fl.variables['qi'][:]\n",
    "qhl = fl.variables['qhl'][:]\n",
    "prspert14 = fl.variables['prspert'][:]\n",
    "\n",
    "#make qtotal\n",
    "qtot14 = (qr+qg+qs+qc14+qi14+qhl)*1000.\n",
    "qci14 = (qc14+qi14)*1000.\n",
    "qcimax14 = np.amax(qci14, axis=1)\n",
    "qtotymax14 = np.amax(qtot14, axis=1)\n",
    "prsmax14 = np.amax(prspert14, axis=1)\n",
    "qcmax14 = np.amax(qc14, axis=1)\n",
    "fl.close()"
   ]
  },
  {
   "cell_type": "code",
   "execution_count": 17,
   "metadata": {
    "collapsed": true
   },
   "outputs": [],
   "source": [
    "ncfile = '/data/slasher/a/engelse2/Entrain/trim_Carp100_Full500_nssl_000190.nc' \n",
    "fl = Dataset(ncfile,mode='r')\n",
    "\n",
    "t = fl.variables['time']\n",
    "x = fl.variables['xh']\n",
    "y = fl.variables['yh']\n",
    "z = fl.variables['z'] \n",
    "u15 = fl.variables['upert'][:]\n",
    "v15 = fl.variables['vpert'][:]                   #read in velocity vecotrs interpolated between scalar points\n",
    "w15 = fl.variables['w'][:]\n",
    "qv = fl.variables['qv'][:]\n",
    "qr = fl.variables['qr'][:]\n",
    "qg = fl.variables['qg'][:]\n",
    "qs = fl.variables['qs'][:]\n",
    "qc15 = fl.variables['qc'][:]\n",
    "qi15 = fl.variables['qi'][:]\n",
    "qhl = fl.variables['qhl'][:]\n",
    "prspert15 = fl.variables['prspert'][:]\n",
    "\n",
    "#make qtotal\n",
    "qtot15 = (qr+qg+qs+qc15+qi15+qhl)*1000.\n",
    "qci15 = (qc15+qi15)*1000.\n",
    "qcimax15 = np.amax(qci15, axis=1)\n",
    "qtotymax15 = np.amax(qtot15, axis=1)\n",
    "prsmax15 = np.amax(prspert15, axis=1)\n",
    "qcmax15 = np.amax(qc15, axis=1)\n",
    "fl.close()"
   ]
  },
  {
   "cell_type": "code",
   "execution_count": 18,
   "metadata": {
    "collapsed": true
   },
   "outputs": [],
   "source": [
    "ncfile = '/data/slasher/a/engelse2/Entrain/trim_Carp100_Full500_nssl_000200.nc' \n",
    "fl = Dataset(ncfile,mode='r')\n",
    "\n",
    "t = fl.variables['time']\n",
    "x = fl.variables['xh']\n",
    "y = fl.variables['yh']\n",
    "z = fl.variables['z']\n",
    "u16 = fl.variables['upert'][:]\n",
    "v16 = fl.variables['vpert'][:]                   #read in velocity vecotrs interpolated between scalar points\n",
    "w16 = fl.variables['w'][:]\n",
    "qv = fl.variables['qv'][:]\n",
    "qr = fl.variables['qr'][:]\n",
    "qg = fl.variables['qg'][:]\n",
    "qs = fl.variables['qs'][:]\n",
    "qc16 = fl.variables['qc'][:]\n",
    "qi16 = fl.variables['qi'][:]\n",
    "qhl = fl.variables['qhl'][:]\n",
    "prspert16 = fl.variables['prspert'][:]\n",
    "\n",
    "#make qtotal\n",
    "qtot16 = (qr+qg+qs+qc16+qi16+qhl)*1000.\n",
    "qci16 = (qc16+qi16)*1000.\n",
    "qcimax16 = np.amax(qci16, axis=1)\n",
    "qtotymax16 = np.amax(qtot16, axis=1)\n",
    "prsmax16 = np.amax(prspert16, axis=1)\n",
    "qcmax16 = np.amax(qc16, axis=1)\n",
    "fl.close()"
   ]
  },
  {
   "cell_type": "code",
   "execution_count": 19,
   "metadata": {
    "collapsed": false
   },
   "outputs": [],
   "source": [
    "ncfile = '/data/slasher/a/engelse2/Entrain/trim_Carp100_Full500_nssl_000210.nc' \n",
    "fl = Dataset(ncfile,mode='r')\n",
    "\n",
    "t = fl.variables['time']\n",
    "x = fl.variables['xh']\n",
    "y = fl.variables['yh']\n",
    "z = fl.variables['z']  \n",
    "u17 = fl.variables['upert'][:]\n",
    "v17 = fl.variables['vpert'][:]                   #read in velocity vecotrs interpolated between scalar points\n",
    "w17 = fl.variables['w'][:]\n",
    "qv = fl.variables['qv'][:]\n",
    "qr = fl.variables['qr'][:]\n",
    "qg = fl.variables['qg'][:]\n",
    "qs = fl.variables['qs'][:]\n",
    "qc17 = fl.variables['qc'][:]\n",
    "qi17 = fl.variables['qi'][:]\n",
    "qhl = fl.variables['qhl'][:]\n",
    "prspert17 = fl.variables['prspert'][:]\n",
    "\n",
    "#make qtotal\n",
    "qtot17 = (qr+qg+qs+qc17+qi17+qhl)*1000.\n",
    "qci17 = (qc17+qi17)*1000.\n",
    "qcimax17 = np.amax(qci17, axis=1)\n",
    "qtotymax17 = np.amax(qtot17, axis=1)\n",
    "prsmax17 = np.amax(prspert1, axis=1)\n",
    "qcmax17 = np.amax(qc17, axis=1)\n",
    "fl.close()"
   ]
  },
  {
   "cell_type": "code",
   "execution_count": 20,
   "metadata": {
    "collapsed": false
   },
   "outputs": [],
   "source": [
    "ncfile = '/data/slasher/a/engelse2/Entrain/trim_Carp100_Full500_nssl_000220.nc' \n",
    "fl = Dataset(ncfile,mode='r')\n",
    "\n",
    "t = fl.variables['time']\n",
    "x = fl.variables['xh']\n",
    "y = fl.variables['yh']\n",
    "z = fl.variables['z'] \n",
    "u18 = fl.variables['upert'][:]\n",
    "v18 = fl.variables['vpert'][:]                   #read in velocity vecotrs interpolated between scalar points\n",
    "w18 = fl.variables['w'][:]\n",
    "qv = fl.variables['qv'][:]\n",
    "qr = fl.variables['qr'][:]\n",
    "qg = fl.variables['qg'][:]\n",
    "qs = fl.variables['qs'][:]\n",
    "qc18 = fl.variables['qc'][:]\n",
    "qi18 = fl.variables['qi'][:]\n",
    "qhl = fl.variables['qhl'][:]\n",
    "prspert18 = fl.variables['prspert'][:]\n",
    "\n",
    "#make qtotal\n",
    "qtot18 = (qr+qg+qs+qc18+qi18+qhl)*1000.\n",
    "qci18 = (qc18+qi18)*1000.\n",
    "qcimax18 = np.amax(qci18, axis=1)\n",
    "qtotymax18 = np.amax(qtot18, axis=1)\n",
    "prsmax18 = np.amax(prspert18, axis=1)\n",
    "qcmax18 = np.amax(qc18, axis=1)\n",
    "fl.close()"
   ]
  },
  {
   "cell_type": "code",
   "execution_count": 21,
   "metadata": {
    "collapsed": true
   },
   "outputs": [],
   "source": [
    "ncfile = '/data/slasher/a/engelse2/Entrain/trim_Carp100_Full500_nssl_000230.nc' \n",
    "fl = Dataset(ncfile,mode='r')\n",
    "\n",
    "t = fl.variables['time']\n",
    "x = fl.variables['xh']\n",
    "y = fl.variables['yh']\n",
    "z = fl.variables['z']    \n",
    "u19 = fl.variables['upert'][:]\n",
    "v19 = fl.variables['vpert'][:]                   #read in velocity vecotrs interpolated between scalar points\n",
    "w19 = fl.variables['w'][:]\n",
    "qv = fl.variables['qv'][:]\n",
    "qr = fl.variables['qr'][:]\n",
    "qg = fl.variables['qg'][:]\n",
    "qs = fl.variables['qs'][:]\n",
    "qc19 = fl.variables['qc'][:]\n",
    "qi19 = fl.variables['qi'][:]\n",
    "qhl = fl.variables['qhl'][:]\n",
    "prspert19 = fl.variables['prspert'][:]\n",
    "\n",
    "#make qtotal\n",
    "qtot19 = (qr+qg+qs+qc19+qi19+qhl)*1000.\n",
    "qci19 = (qc19+qi19)*1000.\n",
    "qcimax19 = np.amax(qci19, axis=1)\n",
    "qtotymax19 = np.amax(qtot19, axis=1)\n",
    "prsmax19 = np.amax(prspert19, axis=1)\n",
    "qcmax19 = np.amax(qc19, axis=1)\n",
    "fl.close()"
   ]
  },
  {
   "cell_type": "code",
   "execution_count": 22,
   "metadata": {
    "collapsed": true
   },
   "outputs": [],
   "source": [
    "ncfile = '/data/slasher/a/engelse2/Entrain/trim_Carp100_Full500_nssl_000240.nc' \n",
    "fl = Dataset(ncfile,mode='r')\n",
    "\n",
    "t = fl.variables['time']\n",
    "x = fl.variables['xh']\n",
    "y = fl.variables['yh']\n",
    "z = fl.variables['z']  \n",
    "u20 = fl.variables['upert'][:]\n",
    "v20 = fl.variables['vpert'][:]                   #read in velocity vecotrs interpolated between scalar points\n",
    "w20 = fl.variables['w'][:]\n",
    "qv = fl.variables['qv'][:]\n",
    "qr = fl.variables['qr'][:]\n",
    "qg = fl.variables['qg'][:]\n",
    "qs = fl.variables['qs'][:]\n",
    "qc20 = fl.variables['qc'][:]\n",
    "qi20 = fl.variables['qi'][:]\n",
    "qhl = fl.variables['qhl'][:]\n",
    "prspert20 = fl.variables['prspert'][:]\n",
    "\n",
    "#make qtotal\n",
    "qtot20 = (qr+qg+qs+qc20+qi20+qhl)*1000.\n",
    "qci20 = (qc20+qi20)*1000.\n",
    "qcimax20 = np.amax(qci20, axis=1)\n",
    "qtotymax20 = np.amax(qtot20, axis=1)\n",
    "prsmax20 = np.amax(prspert20, axis=1)\n",
    "qcmax20 = np.amax(qc20, axis=1)\n",
    "fl.close()"
   ]
  },
  {
   "cell_type": "code",
   "execution_count": 23,
   "metadata": {
    "collapsed": true
   },
   "outputs": [],
   "source": [
    "ncfile = '/data/slasher/a/engelse2/Entrain/trim_Carp100_Full500_nssl_000250.nc' \n",
    "fl = Dataset(ncfile,mode='r')\n",
    "\n",
    "t = fl.variables['time']\n",
    "x = fl.variables['xh']\n",
    "y = fl.variables['yh']\n",
    "z = fl.variables['z']\n",
    "u21 = fl.variables['upert'][:]\n",
    "v21 = fl.variables['vpert'][:]                   #read in velocity vecotrs interpolated between scalar points\n",
    "w21 = fl.variables['w'][:]\n",
    "qv = fl.variables['qv'][:]\n",
    "qr = fl.variables['qr'][:]\n",
    "qg = fl.variables['qg'][:]\n",
    "qs = fl.variables['qs'][:]\n",
    "qc21 = fl.variables['qc'][:]\n",
    "qi21 = fl.variables['qi'][:]\n",
    "qhl = fl.variables['qhl'][:]\n",
    "prspert21 = fl.variables['prspert'][:]\n",
    "\n",
    "#make qtotal\n",
    "qtot21 = (qr+qg+qs+qc21+qi21+qhl)*1000.\n",
    "qci21 = (qc21+qi21)*1000.\n",
    "qcimax21 = np.amax(qci21, axis=1)\n",
    "qtotymax21 = np.amax(qtot21, axis=1)\n",
    "prsmax21 = np.amax(prspert21, axis=1)\n",
    "qcmax21 = np.amax(qc21, axis=1)\n",
    "fl.close()"
   ]
  },
  {
   "cell_type": "code",
   "execution_count": 24,
   "metadata": {
    "collapsed": true
   },
   "outputs": [],
   "source": [
    "ncfile = '/data/slasher/a/engelse2/Entrain/trim_Carp100_Full500_nssl_000260.nc' \n",
    "fl = Dataset(ncfile,mode='r')\n",
    "\n",
    "t = fl.variables['time']\n",
    "x = fl.variables['xh']\n",
    "y = fl.variables['yh']\n",
    "z = fl.variables['z']\n",
    "u22 = fl.variables['upert'][:]\n",
    "v22 = fl.variables['vpert'][:]                   #read in velocity vecotrs interpolated between scalar points\n",
    "w22 = fl.variables['w'][:]\n",
    "qv = fl.variables['qv'][:]\n",
    "qr = fl.variables['qr'][:]\n",
    "qg = fl.variables['qg'][:]\n",
    "qs = fl.variables['qs'][:]\n",
    "qc22 = fl.variables['qc'][:]\n",
    "qi22 = fl.variables['qi'][:]\n",
    "qhl = fl.variables['qhl'][:]\n",
    "prspert22 = fl.variables['prspert'][:]\n",
    "\n",
    "#make qtotal\n",
    "qtot22 = (qr+qg+qs+qc22+qi22+qhl)*1000.\n",
    "qci22 = (qc22+qi22)*1000.\n",
    "qcimax22 = np.amax(qci22, axis=1)\n",
    "qtotymax22 = np.amax(qtot22, axis=1)\n",
    "prsmax22 = np.amax(prspert22, axis=1)\n",
    "qcmax22 = np.amax(qc22, axis=1)\n",
    "fl.close()"
   ]
  },
  {
   "cell_type": "code",
   "execution_count": 25,
   "metadata": {
    "collapsed": false
   },
   "outputs": [],
   "source": [
    "ncfile = '/data/slasher/a/engelse2/Entrain/trim_Carp100_Full500_nssl_000270.nc' \n",
    "fl = Dataset(ncfile,mode='r')\n",
    "\n",
    "t = fl.variables['time']\n",
    "x = fl.variables['xh']\n",
    "y = fl.variables['yh']\n",
    "z = fl.variables['z'] \n",
    "u23 = fl.variables['upert'][:]\n",
    "v23 = fl.variables['vpert'][:]                   #read in velocity vecotrs interpolated between scalar points\n",
    "w23 = fl.variables['w'][:]\n",
    "qv = fl.variables['qv'][:]\n",
    "qr = fl.variables['qr'][:]\n",
    "qg = fl.variables['qg'][:]\n",
    "qs = fl.variables['qs'][:]\n",
    "qc23 = fl.variables['qc'][:]\n",
    "qi23 = fl.variables['qi'][:]\n",
    "qhl = fl.variables['qhl'][:]\n",
    "prspert23 = fl.variables['prspert'][:]\n",
    "\n",
    "#make qtotal\n",
    "qtot23 = (qr+qg+qs+qc23+qi23+qhl)*1000.\n",
    "qci23 = (qc23+qi23)*1000.\n",
    "qcimax23 = np.amax(qci23, axis=1)\n",
    "qtotymax23 = np.amax(qtot23, axis=1)\n",
    "prsmax23 = np.amax(prspert23, axis=1)\n",
    "qcmax23 = np.amax(qc23, axis=1)\n",
    "fl.close()"
   ]
  },
  {
   "cell_type": "code",
   "execution_count": 26,
   "metadata": {
    "collapsed": false
   },
   "outputs": [],
   "source": [
    "ncfile = '/data/slasher/a/engelse2/Entrain/trim_Carp100_Full500_nssl_000280.nc' \n",
    "fl = Dataset(ncfile,mode='r')\n",
    "\n",
    "t = fl.variables['time']\n",
    "x = fl.variables['xh']\n",
    "y = fl.variables['yh']\n",
    "z = fl.variables['z']\n",
    "u24 = fl.variables['upert'][:]\n",
    "v24 = fl.variables['vpert'][:]                   #read in velocity vecotrs interpolated between scalar points\n",
    "w24 = fl.variables['w'][:]\n",
    "qv = fl.variables['qv'][:]\n",
    "qr = fl.variables['qr'][:]\n",
    "qg = fl.variables['qg'][:]\n",
    "qs = fl.variables['qs'][:]\n",
    "qc24 = fl.variables['qc'][:]\n",
    "qi24 = fl.variables['qi'][:]\n",
    "qhl = fl.variables['qhl'][:]\n",
    "prspert24 = fl.variables['prspert'][:]\n",
    "\n",
    "#make qtotal\n",
    "qtot24 = (qr+qg+qs+qc24+qi24+qhl)*1000.\n",
    "qci24 = (qc24+qi24)*1000.\n",
    "qcimax24 = np.amax(qci24, axis=1)\n",
    "qtotymax24 = np.amax(qtot24, axis=1)\n",
    "prsmax24 = np.amax(prspert24, axis=1)\n",
    "qcmax24 = np.amax(qc24, axis=1)\n",
    "fl.close()"
   ]
  },
  {
   "cell_type": "code",
   "execution_count": 27,
   "metadata": {
    "collapsed": true
   },
   "outputs": [],
   "source": [
    "ncfile = '/data/slasher/a/engelse2/Entrain/trim_Carp100_Full500_nssl_000290.nc' \n",
    "fl = Dataset(ncfile,mode='r')\n",
    "\n",
    "t = fl.variables['time']\n",
    "x = fl.variables['xh']\n",
    "y = fl.variables['yh']\n",
    "z = fl.variables['z'] \n",
    "u25 = fl.variables['upert'][:]\n",
    "v25 = fl.variables['vpert'][:]                   #read in velocity vecotrs interpolated between scalar points\n",
    "w25 = fl.variables['w'][:]\n",
    "qv = fl.variables['qv'][:]\n",
    "qr = fl.variables['qr'][:]\n",
    "qg = fl.variables['qg'][:]\n",
    "qs = fl.variables['qs'][:]\n",
    "qc25 = fl.variables['qc'][:]\n",
    "qi25 = fl.variables['qi'][:]\n",
    "qhl = fl.variables['qhl'][:]\n",
    "prspert25 = fl.variables['prspert'][:]\n",
    "\n",
    "#make qtotal\n",
    "qtot25 = (qr+qg+qs+qc25+qi25+qhl)*1000.\n",
    "qci25 = (qc25+qi25)*1000.\n",
    "qcimax25 = np.amax(qci25, axis=1)\n",
    "qtotymax25 = np.amax(qtot25, axis=1)\n",
    "prsmax25 = np.amax(prspert25, axis=1)\n",
    "qcmax25 = np.amax(qc25, axis=1)\n",
    "fl.close()"
   ]
  },
  {
   "cell_type": "code",
   "execution_count": 28,
   "metadata": {
    "collapsed": true
   },
   "outputs": [],
   "source": [
    "ncfile = '/data/slasher/a/engelse2/Entrain/trim_Carp100_Full500_nssl_000300.nc' \n",
    "fl = Dataset(ncfile,mode='r')\n",
    "\n",
    "t = fl.variables['time']\n",
    "x = fl.variables['xh']\n",
    "y = fl.variables['yh']\n",
    "z = fl.variables['z'] \n",
    "u26 = fl.variables['upert'][:]\n",
    "v26 = fl.variables['vpert'][:]                   #read in velocity vecotrs interpolated between scalar points\n",
    "w26 = fl.variables['w'][:]\n",
    "qv = fl.variables['qv'][:]\n",
    "qr = fl.variables['qr'][:]\n",
    "qg = fl.variables['qg'][:]\n",
    "qs = fl.variables['qs'][:]\n",
    "qc26 = fl.variables['qc'][:]\n",
    "qi26 = fl.variables['qi'][:]\n",
    "qhl = fl.variables['qhl'][:]\n",
    "prspert26 = fl.variables['prspert'][:]\n",
    "\n",
    "#make qtotal\n",
    "qtot26 = (qr+qg+qs+qc26+qi26+qhl)*1000.\n",
    "qci26 = (qc26+qi26)*1000.\n",
    "qcimax26 = np.amax(qci26, axis=1)\n",
    "qtotymax26 = np.amax(qtot26, axis=1)\n",
    "prsmax26 = np.amax(prspert26, axis=1)\n",
    "qcmax26 = np.amax(qc26, axis=1)\n",
    "fl.close()"
   ]
  },
  {
   "cell_type": "code",
   "execution_count": 30,
   "metadata": {
    "collapsed": false
   },
   "outputs": [],
   "source": [
    "ncfile = '/data/slasher/a/engelse2/Entrain/trim_Carp100_Full500_nssl_000310.nc' \n",
    "fl = Dataset(ncfile,mode='r')\n",
    "\n",
    "t = fl.variables['time']\n",
    "x = fl.variables['xh']\n",
    "y = fl.variables['yh']\n",
    "z = fl.variables['z']  \n",
    "u27 = fl.variables['upert'][:]\n",
    "v27 = fl.variables['vpert'][:]                   #read in velocity vecotrs interpolated between scalar points\n",
    "w27 = fl.variables['w'][:]\n",
    "qv = fl.variables['qv'][:]\n",
    "qr = fl.variables['qr'][:]\n",
    "qg = fl.variables['qg'][:]\n",
    "qs = fl.variables['qs'][:]\n",
    "qc27 = fl.variables['qc'][:]\n",
    "qi27 = fl.variables['qi'][:]\n",
    "qhl = fl.variables['qhl'][:]\n",
    "prspert27 = fl.variables['prspert'][:]\n",
    "\n",
    "#make qtotal\n",
    "qtot27 = (qr+qg+qs+qc27+qi27+qhl)*1000.\n",
    "qci27 = (qc27+qi27)*1000.\n",
    "qcimax27 = np.amax(qci27, axis=1)\n",
    "qtotymax27 = np.amax(qtot27, axis=1)\n",
    "prsmax27 = np.amax(prspert27, axis=1)\n",
    "qcmax27 = np.amax(qc27, axis=1)\n",
    "fl.close()"
   ]
  },
  {
   "cell_type": "code",
   "execution_count": 31,
   "metadata": {
    "collapsed": true
   },
   "outputs": [],
   "source": [
    "ncfile = '/data/slasher/a/engelse2/Entrain/trim_Carp100_Full500_nssl_000320.nc' \n",
    "fl = Dataset(ncfile,mode='r')\n",
    "\n",
    "t = fl.variables['time']\n",
    "x = fl.variables['xh']\n",
    "y = fl.variables['yh']\n",
    "z = fl.variables['z']\n",
    "u28 = fl.variables['upert'][:]\n",
    "v28 = fl.variables['vpert'][:]                   #read in velocity vecotrs interpolated between scalar points\n",
    "w28 = fl.variables['w'][:]\n",
    "qv = fl.variables['qv'][:]\n",
    "qr = fl.variables['qr'][:]\n",
    "qg = fl.variables['qg'][:]\n",
    "qs = fl.variables['qs'][:]\n",
    "qc28 = fl.variables['qc'][:]\n",
    "qi28 = fl.variables['qi'][:]\n",
    "qhl = fl.variables['qhl'][:]\n",
    "prspert28 = fl.variables['prspert'][:]\n",
    "\n",
    "#make qtotal\n",
    "qtot28 = (qr+qg+qs+qc28+qi28+qhl)*1000.\n",
    "qci28 = (qc28+qi28)*1000.\n",
    "qcimax28 = np.amax(qci28, axis=1)\n",
    "qtotymax28 = np.amax(qtot28, axis=1)\n",
    "prsmax28 = np.amax(prspert28, axis=1)\n",
    "qcmax28 = np.amax(qc28, axis=1)\n",
    "fl.close()"
   ]
  },
  {
   "cell_type": "code",
   "execution_count": 32,
   "metadata": {
    "collapsed": true
   },
   "outputs": [],
   "source": [
    "ncfile = '/data/slasher/a/engelse2/Entrain/trim_Carp100_Full500_nssl_000330.nc' \n",
    "fl = Dataset(ncfile,mode='r')\n",
    "\n",
    "t = fl.variables['time']\n",
    "x = fl.variables['xh']\n",
    "y = fl.variables['yh']\n",
    "z = fl.variables['z'] \n",
    "u29 = fl.variables['upert'][:]\n",
    "v29 = fl.variables['vpert'][:]                   #read in velocity vecotrs interpolated between scalar points\n",
    "w29 = fl.variables['w'][:]\n",
    "qv = fl.variables['qv'][:]\n",
    "qr = fl.variables['qr'][:]\n",
    "qg = fl.variables['qg'][:]\n",
    "qs = fl.variables['qs'][:]\n",
    "qc29 = fl.variables['qc'][:]\n",
    "qi29 = fl.variables['qi'][:]\n",
    "qhl = fl.variables['qhl'][:]\n",
    "prspert29 = fl.variables['prspert'][:]\n",
    "\n",
    "#make qtotal\n",
    "qtot29 = (qr+qg+qs+qc29+qi29+qhl)*1000.\n",
    "qci29 = (qc29+qi29)*1000.\n",
    "qcimax29 = np.amax(qci29, axis=1)\n",
    "qtotymax29 = np.amax(qtot29, axis=1)\n",
    "prsmax29 = np.amax(prspert29, axis=1)\n",
    "qcmax29 = np.amax(qc29, axis=1)\n",
    "fl.close()"
   ]
  },
  {
   "cell_type": "code",
   "execution_count": 33,
   "metadata": {
    "collapsed": true
   },
   "outputs": [],
   "source": [
    "ncfile = '/data/slasher/a/engelse2/Entrain/trim_Carp100_Full500_nssl_000340.nc' \n",
    "fl = Dataset(ncfile,mode='r')\n",
    "\n",
    "t = fl.variables['time']\n",
    "x = fl.variables['xh']\n",
    "y = fl.variables['yh']\n",
    "z = fl.variables['z']\n",
    "u30 = fl.variables['upert'][:]\n",
    "v30 = fl.variables['vpert'][:]                   #read in velocity vecotrs interpolated between scalar points\n",
    "w30 = fl.variables['w'][:]\n",
    "qv = fl.variables['qv'][:]\n",
    "qr = fl.variables['qr'][:]\n",
    "qg = fl.variables['qg'][:]\n",
    "qs = fl.variables['qs'][:]\n",
    "qc30 = fl.variables['qc'][:]\n",
    "qi30 = fl.variables['qi'][:]\n",
    "qhl = fl.variables['qhl'][:]\n",
    "prspert30 = fl.variables['prspert'][:]\n",
    "\n",
    "#make qtotal\n",
    "qtot30 = (qr+qg+qs+qc30+qi30+qhl)*1000.\n",
    "qci30 = (qc30+qi30)*1000.\n",
    "qcimax30 = np.amax(qci30, axis=1)\n",
    "qtotymax30 = np.amax(qtot30, axis=1)\n",
    "prsmax30 = np.amax(prspert30, axis=1)\n",
    "qcmax30 = np.amax(qc30, axis=1)\n",
    "fl.close()"
   ]
  },
  {
   "cell_type": "code",
   "execution_count": 34,
   "metadata": {
    "collapsed": true
   },
   "outputs": [],
   "source": [
    "ncfile = '/data/slasher/a/engelse2/Entrain/trim_Carp100_Full500_nssl_000350.nc' \n",
    "fl = Dataset(ncfile,mode='r')\n",
    "\n",
    "t = fl.variables['time']\n",
    "x = fl.variables['xh']\n",
    "y = fl.variables['yh']\n",
    "z = fl.variables['z']   \n",
    "u31 = fl.variables['upert'][:]\n",
    "v31 = fl.variables['vpert'][:]                   #read in velocity vecotrs interpolated between scalar points\n",
    "w31 = fl.variables['w'][:]\n",
    "qv = fl.variables['qv'][:]\n",
    "qr = fl.variables['qr'][:]\n",
    "qg = fl.variables['qg'][:]\n",
    "qs = fl.variables['qs'][:]\n",
    "qc31 = fl.variables['qc'][:]\n",
    "qi31 = fl.variables['qi'][:]\n",
    "qhl = fl.variables['qhl'][:]\n",
    "prspert31 = fl.variables['prspert'][:]\n",
    "\n",
    "#make qtotal\n",
    "qtot31 = (qr+qg+qs+qc31+qi31+qhl)*1000.\n",
    "qci31 = (qc31+qi31)*1000.\n",
    "qcimax31 = np.amax(qci31, axis=1)\n",
    "qtotymax31 = np.amax(qtot31, axis=1)\n",
    "prsmax31 = np.amax(prspert31, axis=1)\n",
    "qcmax31 = np.amax(qc31, axis=1)\n",
    "fl.close()"
   ]
  },
  {
   "cell_type": "code",
   "execution_count": 35,
   "metadata": {
    "collapsed": true
   },
   "outputs": [],
   "source": [
    "ncfile = '/data/slasher/a/engelse2/Entrain/trim_Carp100_Full500_nssl_000360.nc' \n",
    "fl = Dataset(ncfile,mode='r')\n",
    "\n",
    "t = fl.variables['time']\n",
    "x = fl.variables['xh']\n",
    "y = fl.variables['yh']\n",
    "z = fl.variables['z']    \n",
    "u32 = fl.variables['upert'][:]\n",
    "v32 = fl.variables['vpert'][:]                   #read in velocity vecotrs interpolated between scalar points\n",
    "w32 = fl.variables['w'][:]\n",
    "qv = fl.variables['qv'][:]\n",
    "qr = fl.variables['qr'][:]\n",
    "qg = fl.variables['qg'][:]\n",
    "qs = fl.variables['qs'][:]\n",
    "qc32 = fl.variables['qc'][:]\n",
    "qi32 = fl.variables['qi'][:]\n",
    "qhl = fl.variables['qhl'][:]\n",
    "prspert32 = fl.variables['prspert'][:]\n",
    "\n",
    "#make qtotal\n",
    "qtot32 = (qr+qg+qs+qc32+qi32+qhl)*1000.\n",
    "qci32 = (qc32+qi32)*1000.\n",
    "qcimax32 = np.amax(qci32, axis=1)\n",
    "qtotymax32 = np.amax(qtot32, axis=1)\n",
    "prsmax32 = np.amax(prspert32, axis=1)\n",
    "qcmax32 = np.amax(qc32, axis=1)\n",
    "fl.close()"
   ]
  },
  {
   "cell_type": "code",
   "execution_count": 37,
   "metadata": {
    "collapsed": false
   },
   "outputs": [],
   "source": [
    "ncfile = '/data/slasher/a/engelse2/Entrain/trim_Carp100_Full500_nssl_000370.nc' \n",
    "fl = Dataset(ncfile,mode='r')\n",
    "\n",
    "t = fl.variables['time']\n",
    "x = fl.variables['xh']\n",
    "y = fl.variables['yh']\n",
    "z = fl.variables['z']   \n",
    "u33 = fl.variables['upert'][:]\n",
    "v33 = fl.variables['vpert'][:]                   #read in velocity vecotrs interpolated between scalar points\n",
    "w33 = fl.variables['w'][:]\n",
    "qv = fl.variables['qv'][:]\n",
    "qr = fl.variables['qr'][:]\n",
    "qg = fl.variables['qg'][:]\n",
    "qs = fl.variables['qs'][:]\n",
    "qc33 = fl.variables['qc'][:]\n",
    "qi33 = fl.variables['qi'][:]\n",
    "qhl = fl.variables['qhl'][:]\n",
    "prspert33 = fl.variables['prspert'][:]\n",
    "\n",
    "#make qtotal\n",
    "qtot33 = (qr+qg+qs+qc33+qi33+qhl)*1000.\n",
    "qci33 = (qc33+qi33)*1000.\n",
    "qcimax33 = np.amax(qci33, axis=1)\n",
    "qtotymax33 = np.amax(qtot33, axis=1)\n",
    "prsmax33 = np.amax(prspert33, axis=1)\n",
    "qcmax33 = np.amax(qc33, axis=1)\n",
    "fl.close()"
   ]
  },
  {
   "cell_type": "code",
   "execution_count": 38,
   "metadata": {
    "collapsed": true
   },
   "outputs": [],
   "source": [
    "ncfile = '/data/slasher/a/engelse2/Entrain/trim_Carp100_Full500_nssl_000380.nc' \n",
    "fl = Dataset(ncfile,mode='r')\n",
    "\n",
    "t = fl.variables['time']\n",
    "x = fl.variables['xh']\n",
    "y = fl.variables['yh']\n",
    "z = fl.variables['z'] \n",
    "u34 = fl.variables['upert'][:]\n",
    "v34 = fl.variables['vpert'][:]                   #read in velocity vecotrs interpolated between scalar points\n",
    "w34 = fl.variables['w'][:]\n",
    "qv = fl.variables['qv'][:]\n",
    "qr = fl.variables['qr'][:]\n",
    "qg = fl.variables['qg'][:]\n",
    "qs = fl.variables['qs'][:]\n",
    "qc34 = fl.variables['qc'][:]\n",
    "qi34 = fl.variables['qi'][:]\n",
    "qhl = fl.variables['qhl'][:]\n",
    "prspert34 = fl.variables['prspert'][:]\n",
    "\n",
    "#make qtotal\n",
    "qtot34 = (qr+qg+qs+qc34+qi34+qhl)*1000.\n",
    "qci34 = (qc34+qi34)*1000.\n",
    "qcimax34 = np.amax(qci34, axis=1)\n",
    "qtotymax34 = np.amax(qtot34, axis=1)\n",
    "prsmax34 = np.amax(prspert34, axis=1)\n",
    "qcmax34 = np.amax(qc34, axis=1)\n",
    "fl.close()"
   ]
  },
  {
   "cell_type": "code",
   "execution_count": 39,
   "metadata": {
    "collapsed": true
   },
   "outputs": [],
   "source": [
    "ncfile = '/data/slasher/a/engelse2/Entrain/trim_Carp100_Full500_nssl_000390.nc' \n",
    "fl = Dataset(ncfile,mode='r')\n",
    "\n",
    "t = fl.variables['time']\n",
    "x = fl.variables['xh']\n",
    "y = fl.variables['yh']\n",
    "z = fl.variables['z']   \n",
    "u35 = fl.variables['upert'][:]\n",
    "v35 = fl.variables['vpert'][:]                   #read in velocity vecotrs interpolated between scalar points\n",
    "w35 = fl.variables['w'][:]\n",
    "qv = fl.variables['qv'][:]\n",
    "qr = fl.variables['qr'][:]\n",
    "qg = fl.variables['qg'][:]\n",
    "qs = fl.variables['qs'][:]\n",
    "qc35 = fl.variables['qc'][:]\n",
    "qi35 = fl.variables['qi'][:]\n",
    "qhl = fl.variables['qhl'][:]\n",
    "prspert35 = fl.variables['prspert'][:]\n",
    "\n",
    "#make qtotal\n",
    "qtot35 = (qr+qg+qs+qc35+qi35+qhl)*1000.\n",
    "qci35 = (qc35+qi35)*1000.\n",
    "qcimax35 = np.amax(qci35, axis=1)\n",
    "qtotymax35 = np.amax(qtot35, axis=1)\n",
    "prsmax35 = np.amax(prspert35, axis=1)\n",
    "qcmax35 = np.amax(qc35, axis=1)\n",
    "fl.close()"
   ]
  },
  {
   "cell_type": "code",
   "execution_count": 40,
   "metadata": {
    "collapsed": false
   },
   "outputs": [],
   "source": [
    "ncfile = '/data/slasher/a/engelse2/Entrain/trim_Carp100_Full500_nssl_000400.nc' \n",
    "fl = Dataset(ncfile,mode='r')\n",
    "\n",
    "t = fl.variables['time']\n",
    "x = fl.variables['xh']\n",
    "y = fl.variables['yh']\n",
    "z = fl.variables['z']  \n",
    "u36 = fl.variables['upert'][:]\n",
    "v36 = fl.variables['vpert'][:]                   #read in velocity vecotrs interpolated between scalar points\n",
    "w36 = fl.variables['w'][:]\n",
    "qv = fl.variables['qv'][:]\n",
    "qr = fl.variables['qr'][:]\n",
    "qg = fl.variables['qg'][:]\n",
    "qs = fl.variables['qs'][:]\n",
    "qc36 = fl.variables['qc'][:]\n",
    "qi36 = fl.variables['qi'][:]\n",
    "qhl = fl.variables['qhl'][:]\n",
    "prspert36 = fl.variables['prspert'][:]\n",
    "\n",
    "#make qtotal\n",
    "qtot36 = (qr+qg+qs+qc36+qi36+qhl)*1000.\n",
    "qci36 = (qc36+qi36)*1000.\n",
    "qcimax36 = np.amax(qci36, axis=1)            \n",
    "qtotymax36 = np.amax(qtot36, axis=1)  \n",
    "prsmax36 = np.amax(prspert36, axis=1)\n",
    "qcmax36 = np.amax(qc36, axis=1)\n",
    "fl.close()"
   ]
  },
  {
   "cell_type": "code",
   "execution_count": 41,
   "metadata": {
    "collapsed": false
   },
   "outputs": [],
   "source": [
    "#combining 36 times into one 1st = (time=36,z,y,x)    2nd = (time=36,y,x)\n",
    "qtotzmax = np.concatenate((qtotymax1,qtotymax2,qtotymax3,qtotymax4,qtotymax5,qtotymax6,qtotymax7,qtotymax8,qtotymax9,qtotymax10,qtotymax11,qtotymax12,qtotymax13,qtotymax14,qtotymax15,qtotymax16,qtotymax17,qtotymax18,qtotymax19,qtotymax20,qtotymax21,qtotymax22,qtotymax23,qtotymax24,qtotymax25,qtotymax26,qtotymax27,qtotymax28,qtotymax29,qtotymax30,qtotymax31,qtotymax32,qtotymax33,qtotymax34,qtotymax35,qtotymax36),axis=0)\n",
    "qtottotal = np.concatenate((qtot1,qtot2,qtot3,qtot4,qtot5,qtot6,qtot7,qtot8,qtot9,qtot10,qtot11,qtot12,qtot13,qtot14,qtot15,qtot16,qtot17,qtot18,qtot19,qtot20,qtot21,qtot22,qtot23,qtot24,qtot25,qtot26,qtot27,qtot28,qtot29,qtot30,qtot31,qtot32,qtot33,qtot34,qtot35,qtot36),axis=0)\n",
    "\n",
    "prstotzmax = np.concatenate((prsmax1,prsmax2,prsmax3,prsmax4,prsmax5,prsmax6,prsmax7,prsmax8,prsmax9,prsmax10,prsmax11,prsmax12,prsmax13,prsmax14,prsmax15,prsmax16,prsmax17,prsmax18,prsmax19,prsmax20,prsmax21,prsmax22,prsmax23,prsmax24,prsmax25,prsmax26,prsmax27,prsmax28,prsmax29,prsmax30,prsmax31,prsmax32,prsmax33,prsmax34,prsmax35,prsmax36),axis=0)\n",
    "prsperttotal = np.concatenate((prspert1,prspert2,prspert3,prspert4,prspert5,prspert6,prspert7,prspert8,prspert9,prspert10,prspert11,prspert12,prspert13,prspert14,prspert15,prspert16,prspert17,prspert18,prspert19,prspert20,prspert21,prspert22,prspert23,prspert24,prspert25,prspert26,prspert27,prspert28,prspert29,prspert30,prspert31,prspert32,prspert33,prspert34,prspert35,prspert36),axis=0)\n",
    "\n",
    "qctotzmax = np.concatenate((qcmax1,qcmax2,qcmax3,qcmax4,qcmax5,qcmax6,qcmax7,qcmax8,qcmax9,qcmax10,qcmax11,qcmax12,qcmax13,qcmax14,qcmax15,qcmax16,qcmax17,qcmax18,qcmax19,qcmax20,qcmax21,qcmax22,qcmax23,qcmax24,qcmax25,qcmax26,qcmax27,qcmax28,qcmax29,qcmax30,qcmax31,qcmax32,qcmax33,qcmax34,qcmax35,qcmax36,),axis=0)\n",
    "qctotal = np.concatenate((qc1,qc2,qc3,qc4,qc5,qc6,qc7,qc8,qc9,qc10,qc11,qc12,qc13,qc14,qc15,qc16,qc17,qc18,qc19,qc20,qc21,qc22,qc23,qc24,qc25,qc26,qc27,qc28,qc29,qc30,qc31,qc32,qc33,qc34,qc35,qc36),axis=0)\n",
    "\n",
    "utot = np.concatenate((u1,u2,u3,u4,u5,u6,u7,u8,u9,u10,u11,u12,u13,u14,u15,u16,u17,u18,u19,u20,u21,u22,u23,u24,u25,u26,u27,u28,u29,u30,u31,u32,u33,u34,u35,u36),axis =0)\n",
    "wtot = np.concatenate((w1,w2,w3,w4,w5,w6,w7,w8,w9,w10,w11,w12,w13,w14,w15,w16,w17,w18,w19,w20,w21,w22,w23,w24,w25,w26,w27,w28,w29,w30,w31,w32,w33,w34,w35,w36),axis =0)\n",
    "\n",
    "qcitot = np.concatenate((qci1,qci2,qci3,qci4,qci5,qci6,qci7,qci8,qci9,qci10,qci11,qci12,qci13,qci14,qci15,qci16,qci17,qci18,qci19,qci20,qci21,qci22,qci23,qci24,qci25,qci26,qci27,qci28,qci29,qci30,qci31,qci32,qci33,qci34,qci35,qci36),axis=0)\n",
    "qcitotzmax = np.concatenate((qcimax1,qcimax2,qcimax3,qcimax4,qcimax5,qcimax6,qcimax7,qcimax8,qcimax9,qcimax10,qcimax11,qcimax12,qcimax13,qcimax14,qcimax15,qcimax16,qcimax17,qcimax18,qcimax19,qcimax20,qcimax21,qcimax22,qcimax23,qcimax24,qcimax25,qcimax26,qcimax27,qcimax28,qcimax29,qcimax30,qcimax31,qcimax32,qcimax33,qcimax34,qcimax35,qcimax36),axis=0)"
   ]
  },
  {
   "cell_type": "code",
   "execution_count": 42,
   "metadata": {
    "collapsed": false
   },
   "outputs": [
    {
     "name": "stdout",
     "output_type": "stream",
     "text": [
      "[[  85.   88.   92.   96.  100.  101.  105.  109.  113.  114.  117.  120.\n",
      "   122.  125.  145.  145.  144.  148.  150.  150.  152.  152.  153.  190.\n",
      "   206.  210.  212.  215.  218.  221.  227.  234.  231.  176.  177.  178.]\n",
      " [  45.   50.   57.   65.   74.   80.   89.   98.  106.   77.   82.  102.\n",
      "   111.  121.  123.  128.  135.  148.  157.  160.  167.  170.  178.  165.\n",
      "   177.  185.  181.  185.  189.  195.  203.  216.  217.  226.  235.  247.]]\n",
      "[  85.   88.   92.   96.  100.  101.  105.  109.  113.  114.  117.  120.\n",
      "  122.  125.  145.  145.  144.  148.  150.  150.  152.  152.  153.  190.\n",
      "  206.  210.  212.  215.  218.  221.  227.  234.  231.  176.  177.  178.]\n"
     ]
    }
   ],
   "source": [
    "#find max y location for qtot\n",
    "newt = np.arange(0,36,1)\n",
    "qtotlocz = np.array((np.zeros(36),np.zeros(36)))\n",
    "for i in range(len(newt)):\n",
    "    qtotlocz[:,i] = np.unravel_index(qtotzmax[i,:,:].argmax(),qtotzmax[i,:,:].shape)\n",
    "print((qtotlocz))\n",
    "\n",
    "#make array with y values for each time\n",
    "qtotlocz = qtotlocz[0,:]\n",
    "print(qtotlocz)"
   ]
  },
  {
   "cell_type": "code",
   "execution_count": null,
   "metadata": {
    "collapsed": false
   },
   "outputs": [],
   "source": [
    "#find max y location for qc\n",
    "newt = np.arange(0,36,1)\n",
    "qclocz = np.array((np.zeros(36),np.zeros(36)))\n",
    "for i in range(len(newt)):\n",
    "    qclocz[:,i] = np.unravel_index(qctotzmax[i,:,:].argmax(),qctotzmax[i,:,:].shape)\n",
    "\n",
    "qclocz = qclocz[0,:]\n",
    "print(qclocz)"
   ]
  },
  {
   "cell_type": "code",
   "execution_count": null,
   "metadata": {
    "collapsed": false
   },
   "outputs": [],
   "source": [
    "newt = np.arange(0,36,1)\n",
    "prstotlocz = np.array((np.zeros(36),np.zeros(36)))\n",
    "for i in range(len(newt)):\n",
    "    prstotlocz[:,i] = np.unravel_index(prstotzmax[i,:,:].argmax(),prstotzmax[i,:,:].shape)\n",
    "prstotlocz = prstotlocz[0,:]\n",
    "print((prstotlocz))"
   ]
  },
  {
   "cell_type": "code",
   "execution_count": null,
   "metadata": {
    "collapsed": false,
    "scrolled": true
   },
   "outputs": [],
   "source": [
    "# #qc cross section through qc max\n",
    "# for i in range(len(newt)):\n",
    "#     plt.figure(figsize=(20,6))\n",
    "#     plt.xlim(0,620)\n",
    "#     plt.ylim(0,155)\n",
    "#     plt.contourf(qctotal[i,:,int(qclocz[i]),:],cmap=cm.gist_ncar,levels=np.linspace(0.00001, .005, 500))\n",
    "#     plt.contour(qctotal[i,:,int(qclocz[i]),:]>=1,cmap=cm.gist_ncar,levels=np.linspace(0.00001, .005, 500))\n",
    "#     plt.title('XZ Cross Sections of Qc at time = {} min'.format(55+i), fontsize=20)\n",
    "#     grid('on')\n",
    "#     plt.colorbar()\n",
    "#     savestr = 'carp_cross_qctot0_'+ str(i) +'.png'\n",
    "#     plt.savefig(savestr,dpi = 300)"
   ]
  },
  {
   "cell_type": "code",
   "execution_count": null,
   "metadata": {
    "collapsed": false
   },
   "outputs": [],
   "source": [
    "# #qtot cross section through qtotmax\n",
    "# nx = 620\n",
    "# nz = 155\n",
    "# for i in range(len(newt)):\n",
    "#     plt.figure(figsize=(20,6))\n",
    "#     plt.xlim(0,620)\n",
    "#     plt.ylim(0,155)\n",
    "#     plt.contourf(qtottotal[i,:,int(qtotlocz[i]),:],cmap=cm.gist_ncar,levels=np.linspace(0.01, 20, 500))\n",
    "#     plt.contour(qtottotal[i,:,int(qtotlocz[i]),:]>=1,cmap=cm.gist_ncar,levels=np.linspace(0.01, 20, 500))\n",
    "#     plt.barbs(nx[::8], nz[::8],utot[i,:,::8,::8], wtot[i,:,::8,::8], sizes=dict(emptybarb=0.1, spacing=0.2, height=0.6),length=6)\n",
    "#     plt.title('XZ Cross Sections of Qtot at time = {} min'.format(55+i), fontsize=20)\n",
    "#     grid('on')\n",
    "#     plt.colorbar()\n",
    "#     savestr = 'carp_cross_qtot0_'+ str(i) +'.png'\n",
    "#     plt.savefig(savestr,dpi = 300)"
   ]
  },
  {
   "cell_type": "code",
   "execution_count": null,
   "metadata": {
    "collapsed": false
   },
   "outputs": [],
   "source": [
    "# #prs pert through qtot max\n",
    "# nx = 620\n",
    "# nz = 155\n",
    "# for i in range(len(newt)):\n",
    "#     plt.figure(figsize=(20,6))\n",
    "#     plt.xlim(0,620)\n",
    "#     plt.ylim(0,155)\n",
    "#     plt.contourf(prsperttotal[i,:,int(qtotlocz[i]),:],cmap='seismic',levels=np.linspace(-200, 200, 500))\n",
    "#     plt.contour(qtottotal[i,:,int(qtotlocz[i]),:]>=1,color=\"black\",levels=np.linspace(-200, 200, 500))\n",
    "#     plt.title('XZ Cross Sections of Pressure Perturbations at time = {} min'.format(55+i), fontsize=20)\n",
    "#     grid('on')\n",
    "#     plt.colorbar()\n",
    "#     savestr = 'carp_cross_prstot_'+ str(i) +'.png'\n",
    "#     plt.savefig(savestr,dpi = 300)"
   ]
  },
  {
   "cell_type": "code",
   "execution_count": null,
   "metadata": {
    "collapsed": false
   },
   "outputs": [],
   "source": [
    "# #through prspert max\n",
    "# nx = 620\n",
    "# nz = 155\n",
    "# for i in range(len(newt)):\n",
    "#     plt.figure(figsize=(20,6))\n",
    "#     plt.xlim(0,620)\n",
    "#     plt.ylim(0,155)\n",
    "#     plt.contourf(prsperttotal[i,:,int(prstotlocz[i]),:],cmap='seismic',levels=np.linspace(-200, 200, 500))\n",
    "#     plt.contour(qtottotal[i,:,int(prstotlocz[i]),:]>=1,color=\"black\",levels=np.linspace(-200, 200, 500))\n",
    "#     plt.title('XZ Cross Sections of Pressure Perturbations at time = {} min'.format(55+i), fontsize=20)\n",
    "#     grid('on')\n",
    "#     plt.colorbar()\n",
    "#     savestr = 'carp_cross_prstotlocz_'+ str(i) +'.png'\n",
    "#     plt.savefig(savestr,dpi = 300)"
   ]
  },
  {
   "cell_type": "code",
   "execution_count": null,
   "metadata": {
    "collapsed": false
   },
   "outputs": [],
   "source": [
    "# #slider attempt\n",
    "# nx = 620\n",
    "# nz = 180\n",
    "# def browse_images(qtottotal):\n",
    "#     t=36\n",
    "#     def plot_qtottotal(i):\n",
    "#         plt.figure(figsize=(20,6))\n",
    "#         plt.xlim(0,620)\n",
    "#         plt.ylim(0,155)\n",
    "#         plt.contourf(qtottotal[i,:,qtotlocz[i],:],cmap=cm.gist_ncar,levels=np.linspace(0.01, 20, 500))\n",
    "#         plt.contour(qtottotal[i,:,qtotlocz[i],:]>1,cmap=cm.gist_ncar,levels=np.linspace(0.01, 20, 500))\n",
    "        \n",
    "#         #plt.barbs(nx[::8], nz[::8],u[i,:,::8,::8], z[i,:,::8,::8], sizes=dict(emptybarb=0.1, spacing=0.2, height=0.6),length=6)\n",
    "        \n",
    "#         plt.title('XZ Cross Sections of Qtot at time = {} min'.format(55+i), fontsize=20)\n",
    "#         grid('on')\n",
    "#         plt.colorbar()\n",
    "#     interact(plot_qtottotal, i=(0,t-1))\n",
    "\n",
    "#     #savestr = 'carp_cross_qtot0_'+ str(i) +'.png'\n",
    "#     #plt.savefig(savestr,dpi = 200)"
   ]
  },
  {
   "cell_type": "code",
   "execution_count": null,
   "metadata": {
    "collapsed": false
   },
   "outputs": [],
   "source": [
    "#     browse_images(qtottotal)"
   ]
  },
  {
   "cell_type": "code",
   "execution_count": null,
   "metadata": {
    "collapsed": false
   },
   "outputs": [],
   "source": [
    "# for i in range(len(newt)):\n",
    "#     plt.figure(figsize=(20,6))\n",
    "#     plt.xlim(0,620)\n",
    "#     plt.ylim(0,155)\n",
    "#     plt.contourf(qtottotal[i,:,qtotlocz[i],:],cmap=cm.gist_ncar,levels=np.linspace(0.01, 20, 500))\n",
    "#     plt.contour(qtottotal[i,:,qtotlocz[i],:]>2,cmap=cm.gist_ncar,levels=np.linspace(0.01, 20, 500))\n",
    "#     plt.title('XZ Cross Sections of Qtot at time = {} min'.format(55+i), fontsize=20)\n",
    "#     grid('on')\n",
    "#     plt.colorbar()\n",
    "#     #savestr = 'carp_cross_qtot0_'+ str(i) +'.png'\n",
    "#     #plt.savefig(savestr,dpi = 300)"
   ]
  },
  {
   "cell_type": "code",
   "execution_count": null,
   "metadata": {
    "collapsed": false
   },
   "outputs": [],
   "source": [
    "# for i in range(len(newt)):\n",
    "#     newqtot = qtottotal[:,:,qtotlocz[i],:]\n",
    "# #print(np.shape(qtottotal))\n",
    "# #print(np.shape(newqtot))\n",
    "\n",
    "# qtotshape = qtottotal.shape\n",
    "# newqtotcount = np.zeros(qtotshape[0])\n",
    "\n",
    "\n",
    "# newqtot[newqtot >=1] = 1\n",
    "# newqtot[newqtot <1 ] = 0\n",
    "\n",
    "# s = [[1,1,1],[1,1,1],[1,1,1]]\n",
    "# array = np.zeros(qtotshape[0])\n",
    "\n",
    "# for i in range(len(newt)):\n",
    "#     labeled_array,qtotnum_features = label(newqtot[i,:,:],structure=s)\n",
    "#     labeled_arrayflat = labeled_array.flatten()\n",
    "#     newqtotcounter = Counter(labeled_arrayflat)\n",
    "#     newqtotcount[i] = np.max(newqtotcounter)[1]\n",
    "#     #print(qtotnum_features)\n",
    "# #print(newqtotcount)\n",
    "\n",
    "# area1 = np.array([np.multiply(newqtotcount,10000)])\n",
    "# area1 = area1[0]\n",
    "# print(area1)\n",
    "# newt1 = np.add(newt,55)\n",
    "# plt.figure(figsize=(10,6))\n",
    "# plt.xlabel('Time in minutes', fontsize=20)\n",
    "# #plt.yscale('log')\n",
    "# plt.ylim(0,200000000)\n",
    "# plt.ylabel('Area in m^2', fontsize=20)\n",
    "# plt.title('Time Series of Area (Carp)', fontsize=20)\n",
    "# grid('on')\n",
    "# plt.plot(newt1,area1,color=\"blue\",label=\"MRR\")\n"
   ]
  },
  {
   "cell_type": "code",
   "execution_count": 53,
   "metadata": {
    "collapsed": false
   },
   "outputs": [
    {
     "name": "stdout",
     "output_type": "stream",
     "text": [
      "(36, 180, 630, 630)\n",
      "(36, 180, 630)\n"
     ]
    }
   ],
   "source": [
    "for i in range(len(newt)):\n",
    "    newqtot = qtottotal[:,:,int(qtotlocz[i]),:]\n",
    "print(np.shape(qtottotal))\n",
    "print(np.shape(newqtot))"
   ]
  },
  {
   "cell_type": "code",
   "execution_count": null,
   "metadata": {
    "collapsed": false
   },
   "outputs": [],
   "source": [
    "# area = np.zeros(36)\n",
    "# for i in range(len(newt)):\n",
    "#     b = (newqtot[i,:,:] >=1.).sum()\n",
    "#     #print(np.shape(b))\n",
    "#     #print((b))\n",
    "#     area[i] = np.array([np.multiply(b,10000)])\n",
    "# print(area)\n",
    "# # print(np.shape(area)) \n",
    "# # print(area)\n",
    "# newt1 = np.add(newt,55)\n",
    "# plt.figure(figsize=(10,6))\n",
    "# plt.xlabel('Time in minutes', fontsize=20)\n",
    "# #plt.yscale('log')\n",
    "# plt.ylim(0,200000000)\n",
    "# plt.ylabel('Area in m^2', fontsize=20)\n",
    "# plt.title('Time Series of Area (Carp)', fontsize=20)\n",
    "# grid('on')\n",
    "# plt.plot(newt1,area,color=\"blue\",label=\"MRR\")\n",
    "\n",
    "    \n",
    "# #     plt.plot(timePar,RR_Par,color=\"green\",label=\"Parsivel\")\n",
    "# #     plt.plot(timeMPS,RR_MPSnew,color=\"red\",label=\"MPS\")\n",
    "# #     plt.plot(timeutc,new_rate2,color=\"magenta\",label=\"GEONOR\")\n",
    "# #     plt.legend(bbox_to_anchor=(.25, 1.0), loc=1)\n",
    "\n",
    "# #     c = newqtot[b]\n",
    "# #     print((len(c)))"
   ]
  },
  {
   "cell_type": "code",
   "execution_count": null,
   "metadata": {
    "collapsed": false
   },
   "outputs": [],
   "source": [
    "# #print(np.shape(qtottotal))\n",
    "\n",
    "# for i in range(len(newt)):\n",
    "#     newqtot = qtottotal[:,:,qtotlocz[i],:]\n",
    "    \n",
    "# #print(np.shape(newqtot)) \n",
    "# whereqtot = np.zeros(35)\n",
    "# newt1 = np.arange(0,36,1)\n",
    "# for i in range(len(newt1)):\n",
    "#     whereqtot = np.where(newqtot[i,:,:] >=1.)\n",
    "#     print(np.shape(whereqtot))\n",
    "# # whereqtot1 = np.array(whereqtot) \n",
    "# # print((whereqtot1))\n",
    "# # # whereqtot2 = whereqtot1[0,:]\n",
    "# # # print((np.shape(whereqtot2)))\n",
    "# # print(np.shape(whereqtot1))"
   ]
  },
  {
   "cell_type": "code",
   "execution_count": null,
   "metadata": {
    "collapsed": false
   },
   "outputs": [],
   "source": [
    "# #sum(float(num) >= 1.3 for num in mylist)\n",
    "\n",
    "# for i in range(newt):\n",
    "#     for j in range(630):\n",
    "#         for k in range(180):\n",
    "#             t1 = (qtottotal[i,k,qtotlocz[30],j] >= .001).sum()\n",
    "#             x1 = (qtottotal[i,k,qtotlocz[30],j] >= .001).sum()\n",
    "#             z1 = (qtottotal[i,k,qtotlocz[30],j] >= .001).sum()\n",
    "# # for i in range(len(newt)):\n",
    "# #     crossareal1 = ((qtottotal[:,:,qtotlocz[i],0] >= 1) & (qtottotal[:,0,qtotlocz[i],:] >= 1))\n",
    "    \n",
    "    \n",
    "    \n",
    "# print(np.shape(x1)) "
   ]
  },
  {
   "cell_type": "code",
   "execution_count": 44,
   "metadata": {
    "collapsed": false
   },
   "outputs": [
    {
     "name": "stdout",
     "output_type": "stream",
     "text": [
      "[   570000.    810000.   1110000.   1430000.   1960000.   2460000.\n",
      "   3210000.   4120000.   5210000.   4820000.   5490000.   6180000.\n",
      "   5730000.   6940000.  13010000.  15720000.  22340000.  26220000.\n",
      "  29520000.  33110000.  37350000.  33540000.  31700000.  31650000.\n",
      "  17440000.  21190000.  35420000.  46150000.  57450000.  70080000.\n",
      "  78780000.  85730000.  99430000.  55480000.  54720000.  59230000.]\n"
     ]
    },
    {
     "data": {
      "image/png": "[encoded data removed]",
      "text/plain": [
       "<matplotlib.figure.Figure at 0x2b784c528c50>"
      ]
     },
     "metadata": {},
     "output_type": "display_data"
    }
   ],
   "source": [
    "#qtot area 1\n",
    "newarea = np.array(np.empty((0,36)))\n",
    "newarea1 = np.array(np.empty((0,36)))\n",
    "for i in range(len(newt)):\n",
    "    cond = qtottotal[i,:,int(qtotlocz[i]),:]\n",
    "    ind = np.where(cond >= 1.0)\n",
    "    area = cond[ind]\n",
    "    newarea = (np.shape(area))\n",
    "    newarea1 = np.array(np.append(newarea1, [newarea]))\n",
    "    \n",
    "    newarea1[i] = np.array([np.multiply(newarea1[i],10000)])\n",
    "# newarea1 = newarea1[0:35]\n",
    "# newt1 = np.arange(0,35,1)\n",
    "newt2 = np.add(newt,55)\n",
    "plt.figure(figsize=(10,6))\n",
    "#plt.xlim(0,620)\n",
    "#plt.ylim(0,10000000000)\n",
    "plt.xlabel('Time in minutes', fontsize=20)\n",
    "plt.ylabel('Area in m^2', fontsize=20)\n",
    "plt.yscale('log')\n",
    "plt.title('Time Series of Qtot_1 Area (Carp)', fontsize=20)\n",
    "grid('on')\n",
    "plt.plot(newt2,newarea1,color=\"blue\",label=\"qtot_1\")\n",
    "\n",
    "print((newarea1))"
   ]
  },
  {
   "cell_type": "code",
   "execution_count": 45,
   "metadata": {
    "collapsed": false
   },
   "outputs": [
    {
     "data": {
      "text/plain": [
       "[<matplotlib.lines.Line2D at 0x2b9b385d74d0>]"
      ]
     },
     "execution_count": 45,
     "metadata": {},
     "output_type": "execute_result"
    },
    {
     "data": {
      "image/png": "[encoded data removed]",
      "text/plain": [
       "<matplotlib.figure.Figure at 0x2b9b382e1950>"
      ]
     },
     "metadata": {},
     "output_type": "display_data"
    }
   ],
   "source": [
    "#qtot area 2\n",
    "twonewarea = np.array(np.empty((0,36)))\n",
    "twonewarea1 = np.array(np.empty((0,36)))\n",
    "for i in np.arange(len(newt)):\n",
    "    twocond = qtottotal[i,:,int(qtotlocz[i]),:]\n",
    "    twoind = np.where(twocond >= 2.0)\n",
    "    twoarea = twocond[twoind]\n",
    "    twonewarea = (np.shape(twoarea))\n",
    "    twonewarea1 = (np.append(twonewarea1, [twonewarea]))\n",
    "    \n",
    "    twonewarea1[i] = np.array([np.multiply(twonewarea1[i],10000)])\n",
    "# twonewarea1 = twonewarea1[0:35]\n",
    "# newt1 = np.arange(0,35,1)\n",
    "newt2 = np.add(newt,55)\n",
    "plt.figure(figsize=(10,6))\n",
    "#plt.xlim(0,620)\n",
    "#plt.ylim(0,10000000000)\n",
    "plt.xlabel('Time in minutes', fontsize=20)\n",
    "plt.ylabel('Area in m^2', fontsize=20)\n",
    "plt.yscale('log')\n",
    "plt.title('Time Series of Qtot_2 Area (Carp)', fontsize=20)\n",
    "grid('on')\n",
    "plt.plot(newt2,twonewarea1,color=\"blue\",label=\"qtot_2\")\n"
   ]
  },
  {
   "cell_type": "code",
   "execution_count": 46,
   "metadata": {
    "collapsed": false
   },
   "outputs": [
    {
     "name": "stdout",
     "output_type": "stream",
     "text": [
      "(11528,)\n"
     ]
    },
    {
     "data": {
      "image/png": "[encoded data removed]",
      "text/plain": [
       "<matplotlib.figure.Figure at 0x2b78872ff150>"
      ]
     },
     "metadata": {},
     "output_type": "display_data"
    }
   ],
   "source": [
    "#w area 1\n",
    "wnewarea = np.array(np.empty((0,36)))\n",
    "wnewarea1 = np.array(np.empty((0,36)))\n",
    "for i in range(len(newt)):\n",
    "    wcond = wtot[i,:,int(qtotlocz[i]),:]\n",
    "    wind = np.where(wcond >= 1.0)\n",
    "    warea = wcond[wind]\n",
    "    wnewarea = (np.shape(warea))\n",
    "    wnewarea1 = np.array(np.append(wnewarea1, [wnewarea]))\n",
    "    \n",
    "    wnewarea1[i] = np.array([np.multiply(wnewarea1[i],10000)])\n",
    "# wnewarea1 = wnewarea1[0:35]\n",
    "# newt1 = np.arange(0,35,1)\n",
    "newt2 = np.add(newt,55)\n",
    "plt.figure(figsize=(10,6))\n",
    "#plt.xlim(0,620)\n",
    "#plt.ylim(0,10000000000)\n",
    "plt.xlabel('Time in minutes', fontsize=20)\n",
    "plt.ylabel('Area in m^2', fontsize=20)\n",
    "plt.yscale('log')\n",
    "plt.title('Time Series of W_1 Area (Carp)', fontsize=20)\n",
    "grid('on')\n",
    "plt.plot(newt2,wnewarea1,color=\"blue\",label=\"w_1\")\n",
    "\n",
    "print(np.shape(warea))"
   ]
  },
  {
   "cell_type": "code",
   "execution_count": 47,
   "metadata": {
    "collapsed": false
   },
   "outputs": [
    {
     "data": {
      "text/plain": [
       "[<matplotlib.lines.Line2D at 0x2b9b387fc350>]"
      ]
     },
     "execution_count": 47,
     "metadata": {},
     "output_type": "execute_result"
    },
    {
     "data": {
      "image/png": "[encoded data removed]",
      "text/plain": [
       "<matplotlib.figure.Figure at 0x2b77a6f297d0>"
      ]
     },
     "metadata": {},
     "output_type": "display_data"
    }
   ],
   "source": [
    "#w area 5\n",
    "fivewnewarea = np.array(np.empty((0,36)))\n",
    "fivewnewarea1 = np.array(np.empty((0,36)))\n",
    "for i in range(len(newt)):\n",
    "    fivewcond = wtot[i,:,int(qtotlocz[i]),:]\n",
    "    fivewind = np.where(fivewcond >= 5.0)\n",
    "    fivewarea = fivewcond[fivewind]\n",
    "    fivewnewarea = (np.shape(fivewarea))\n",
    "    fivewnewarea1 = np.array(np.append(fivewnewarea1, [fivewnewarea]))\n",
    "    \n",
    "    fivewnewarea1[i] = np.array([np.multiply(fivewnewarea1[i],10000)])\n",
    "# wnewarea1 = wnewarea1[0:35]\n",
    "# newt1 = np.arange(0,35,1)\n",
    "newt2 = np.add(newt,55)\n",
    "plt.figure(figsize=(10,6))\n",
    "#plt.xlim(0,620)\n",
    "#plt.ylim(0,10000000000)\n",
    "plt.xlabel('Time in minutes', fontsize=20)\n",
    "plt.ylabel('Area in m^2', fontsize=20)\n",
    "plt.yscale('log')\n",
    "plt.title('Time Series of W_5 Area (Carp)', fontsize=20)\n",
    "grid('on')\n",
    "plt.plot(newt2,fivewnewarea1,color=\"blue\",label=\"w_5\")\n",
    "\n"
   ]
  },
  {
   "cell_type": "code",
   "execution_count": 48,
   "metadata": {
    "collapsed": false
   },
   "outputs": [
    {
     "name": "stdout",
     "output_type": "stream",
     "text": [
      "(11528,)\n"
     ]
    },
    {
     "data": {
      "image/png": "[encoded data removed]",
      "text/plain": [
       "<matplotlib.figure.Figure at 0x2b7799d732d0>"
      ]
     },
     "metadata": {},
     "output_type": "display_data"
    }
   ],
   "source": [
    "#total area_11\n",
    "newtotarea1 = np.array(np.empty((0,36)))\n",
    "newtotarea2 = np.array(np.empty((0,36)))\n",
    "coords2 = {}\n",
    "for i in range(len(newt)):\n",
    "    tcond = qtottotal[i,:,int(qtotlocz[i]),:]\n",
    "    wcond = wtot[i,:,int(qtotlocz[i]),:]\n",
    "    ind1 = np.where(tcond >=1.0)\n",
    "    ind2 = np.where(wcond >=1.0)\n",
    "    counter = 0\n",
    "    coords = {}\n",
    "    coords['z'] = np.array([])\n",
    "    coords['x'] = np.array([])\n",
    "    for n in np.arange(0,len(ind1[0])):\n",
    "        x = ind1[0][n]\n",
    "        y = ind1[1][n]\n",
    "        ind3 = np.where(ind2[0] == x)\n",
    "        ind4 = np.where(ind2[1] == y)\n",
    "        ind5 = np.intersect1d(ind3,ind4)\n",
    "        if len(ind5) >= 1:\n",
    "            counter = counter + 1\n",
    "            coords['z'] = np.append(coords['z'],x)\n",
    "            coords['x'] = np.append(coords['x'],y)\n",
    "    \n",
    "    coords2[i] = coords    \n",
    "    newtotarea1 = counter\n",
    "    newtotarea2 = np.array(np.append(newtotarea2, [newtotarea1]))\n",
    "    \n",
    "    newtotarea2[i] = np.array([np.multiply(newtotarea2[i],10000)])\n",
    "    \n",
    "# newtotarea2 = newtotarea2[0:35]\n",
    "# newt1 = np.arange(0,35,1)\n",
    "newt2 = np.add(newt,5)\n",
    "plt.figure(figsize=(10,6))\n",
    "#plt.xlim(0,620)\n",
    "#plt.ylim(0,10000000000)\n",
    "plt.xlabel('Time in minutes', fontsize=20)\n",
    "plt.ylabel('Area in m^2', fontsize=20)\n",
    "plt.yscale('log')\n",
    "plt.title('Time Series of Total_11 Area (Full)', fontsize=20)\n",
    "grid('on')\n",
    "plt.plot(newt2,newtotarea2,color=\"blue\",label=\"MRR\")\n",
    "\n",
    "print(np.shape(warea))"
   ]
  },
  {
   "cell_type": "code",
   "execution_count": 49,
   "metadata": {
    "collapsed": false
   },
   "outputs": [
    {
     "data": {
      "text/plain": [
       "[<matplotlib.lines.Line2D at 0x2b9b38dbb410>]"
      ]
     },
     "execution_count": 49,
     "metadata": {},
     "output_type": "execute_result"
    },
    {
     "data": {
      "image/png": "[encoded data removed]",
      "text/plain": [
       "<matplotlib.figure.Figure at 0x2b9b38852990>"
      ]
     },
     "metadata": {},
     "output_type": "display_data"
    }
   ],
   "source": [
    "#total area 2&5\n",
    "newtotarea125 = np.array(np.empty((0,36)))\n",
    "newtotarea225 = np.array(np.empty((0,36)))\n",
    "coords225 = {}\n",
    "for i in range(len(newt)):\n",
    "    tcond25 = qtottotal[i,:,int(qtotlocz[i]),:]\n",
    "    wcond25 = wtot[i,:,int(qtotlocz[i]),:]\n",
    "    ind125 = np.where(tcond25 >=2.0)\n",
    "    ind225 = np.where(wcond25 >=5.0)\n",
    "    counter25 = 0\n",
    "    coords25 = {}\n",
    "    coords25['z'] = np.array([])\n",
    "    coords25['x'] = np.array([])\n",
    "    for n in np.arange(0,len(ind125[0])):\n",
    "        x = ind125[0][n]\n",
    "        y = ind125[1][n]\n",
    "        ind325 = np.where(ind225[0] == x)\n",
    "        ind425 = np.where(ind225[1] == y)\n",
    "        ind525 = np.intersect1d(ind325,ind425)\n",
    "        if len(ind525) >= 1:\n",
    "            counter25 = counter25 + 1\n",
    "            coords25['z'] = np.append(coords25['z'],x)\n",
    "            coords25['x'] = np.append(coords25['x'],y)\n",
    "    \n",
    "    coords225[i] = coords25    \n",
    "    newtotarea125 = counter25\n",
    "    newtotarea225 = np.array(np.append(newtotarea225, [newtotarea125]))\n",
    "    \n",
    "    newtotarea225[i] = np.array([np.multiply(newtotarea225[i],10000)])\n",
    "    \n",
    "# newtotarea2 = newtotarea2[0:35]\n",
    "# newt1 = np.arange(0,35,1)\n",
    "newt2 = np.add(newt,5)\n",
    "plt.figure(figsize=(10,6))\n",
    "#plt.xlim(0,620)\n",
    "#plt.ylim(0,10000000000)\n",
    "plt.xlabel('Time in minutes', fontsize=20)\n",
    "plt.ylabel('Area in m^2', fontsize=20)\n",
    "plt.yscale('log')\n",
    "plt.title('Time Series of Total_25 Area (Full)', fontsize=20)\n",
    "grid('on')\n",
    "plt.plot(newt2,newtotarea225,color=\"blue\",label=\"tot_25\")\n",
    "\n"
   ]
  },
  {
   "cell_type": "code",
   "execution_count": 50,
   "metadata": {
    "collapsed": false
   },
   "outputs": [
    {
     "name": "stdout",
     "output_type": "stream",
     "text": [
      "(11528,)\n"
     ]
    },
    {
     "data": {
      "image/png": "[encoded data removed]",
      "text/plain": [
       "<matplotlib.figure.Figure at 0x2b9b38c39290>"
      ]
     },
     "metadata": {},
     "output_type": "display_data"
    }
   ],
   "source": [
    "#combined_11\n",
    "newtotarea1 = np.array(np.empty((0,36)))\n",
    "newtotarea2 = np.array(np.empty((0,36)))\n",
    "coords2 = {}\n",
    "for i in range(len(newt)):\n",
    "    tcond = qtottotal[i,:,int(qtotlocz[i]),:]\n",
    "    wcond = wtot[i,:,int(qtotlocz[i]),:]\n",
    "    ind1 = np.where(tcond >=1.0)\n",
    "    ind2 = np.where(wcond >=1.0)\n",
    "    counter = 0\n",
    "    coords = {}\n",
    "    coords['z'] = np.array([])\n",
    "    coords['x'] = np.array([])\n",
    "    for n in np.arange(0,len(ind1[0])):\n",
    "        x = ind1[0][n]\n",
    "        y = ind1[1][n]\n",
    "        ind3 = np.where(ind2[0] == x)\n",
    "        ind4 = np.where(ind2[1] == y)\n",
    "        ind5 = np.intersect1d(ind3,ind4)\n",
    "        if len(ind5) >= 1:\n",
    "            counter = counter + 1\n",
    "            coords['z'] = np.append(coords['z'],x)\n",
    "            coords['x'] = np.append(coords['x'],y)\n",
    "    \n",
    "    coords2[i] = coords    \n",
    "    newtotarea1 = counter\n",
    "    newtotarea2 = np.array(np.append(newtotarea2, [newtotarea1]))\n",
    "    \n",
    "    newtotarea2[i] = np.array([np.multiply(newtotarea2[i],10000)])\n",
    "    \n",
    "# newtotarea2 = newtotarea2[0:35]\n",
    "# newt1 = np.arange(0,35,1)\n",
    "newt2 = np.add(newt,55)\n",
    "plt.figure(figsize=(10,6))\n",
    "#plt.xlim(0,620)\n",
    "#plt.ylim(0,10000000000)\n",
    "plt.xlabel('Time in minutes', fontsize=20)\n",
    "plt.ylabel('Area in m^2', fontsize=20)\n",
    "plt.yscale('log')\n",
    "plt.title('Time Series of Total Area_11 (Carp)', fontsize=20)\n",
    "grid('on')\n",
    "plt.plot(newt2,newtotarea2,color=\"blue\",label=\"tot_11\")\n",
    "plt.plot(newt2,wnewarea1,color=\"red\",label=\"w_11\")\n",
    "plt.plot(newt2,newarea1,color=\"orange\",label=\"qtot_11\")\n",
    "plt.legend(bbox_to_anchor=(.25, 1.0), loc=1)\n",
    "\n",
    "\n",
    "print(np.shape(warea))"
   ]
  },
  {
   "cell_type": "code",
   "execution_count": 51,
   "metadata": {
    "collapsed": false
   },
   "outputs": [
    {
     "data": {
      "text/plain": [
       "<matplotlib.legend.Legend at 0x2b9b382afb50>"
      ]
     },
     "execution_count": 51,
     "metadata": {},
     "output_type": "execute_result"
    },
    {
     "data": {
      "image/png": "[encoded data removed]",
      "text/plain": [
       "<matplotlib.figure.Figure at 0x2b83c9736fd0>"
      ]
     },
     "metadata": {},
     "output_type": "display_data"
    }
   ],
   "source": [
    "#combined_25\n",
    "newtotarea1 = np.array(np.empty((0,36)))\n",
    "newtotarea2 = np.array(np.empty((0,36)))\n",
    "coords2 = {}\n",
    "for i in range(len(newt)):\n",
    "    tcond = qtottotal[i,:,int(qtotlocz[i]),:]\n",
    "    wcond = wtot[i,:,int(qtotlocz[i]),:]\n",
    "    ind1 = np.where(tcond >=1.0)\n",
    "    ind2 = np.where(wcond >=1.0)\n",
    "    counter = 0\n",
    "    coords = {}\n",
    "    coords['z'] = np.array([])\n",
    "    coords['x'] = np.array([])\n",
    "    for n in np.arange(0,len(ind1[0])):\n",
    "        x = ind1[0][n]\n",
    "        y = ind1[1][n]\n",
    "        ind3 = np.where(ind2[0] == x)\n",
    "        ind4 = np.where(ind2[1] == y)\n",
    "        ind5 = np.intersect1d(ind3,ind4)\n",
    "        if len(ind5) >= 1:\n",
    "            counter = counter + 1\n",
    "            coords['z'] = np.append(coords['z'],x)\n",
    "            coords['x'] = np.append(coords['x'],y)\n",
    "    \n",
    "    coords2[i] = coords    \n",
    "    newtotarea1 = counter\n",
    "    newtotarea2 = np.array(np.append(newtotarea2, [newtotarea1]))\n",
    "    \n",
    "    newtotarea2[i] = np.array([np.multiply(newtotarea2[i],10000)])\n",
    "    \n",
    "# newtotarea2 = newtotarea2[0:35]\n",
    "# newt1 = np.arange(0,35,1)\n",
    "newt2 = np.add(newt,55)\n",
    "plt.figure(figsize=(10,6))\n",
    "#plt.xlim(0,620)\n",
    "plt.ylim(10**5,10**9)\n",
    "plt.xlabel('Time in minutes', fontsize=20)\n",
    "plt.ylabel('Area in m^2', fontsize=20)\n",
    "plt.yscale('log')\n",
    "plt.title('Time Series of Total Area_25 (Carp)', fontsize=20)\n",
    "grid('on')\n",
    "plt.plot(newt2,newtotarea225,color=\"blue\",label=\"tot_25\")\n",
    "plt.plot(newt2,fivewnewarea1,color=\"red\",label=\"w_5\")\n",
    "plt.plot(newt2,twonewarea1,color=\"orange\",label=\"qtot_2\")\n",
    "plt.legend(bbox_to_anchor=(.25, 1.0), loc=1)\n",
    "\n"
   ]
  },
  {
   "cell_type": "code",
   "execution_count": 54,
   "metadata": {
    "collapsed": false
   },
   "outputs": [
    {
     "data": {
      "text/plain": [
       "<matplotlib.legend.Legend at 0x2b9b38fe7410>"
      ]
     },
     "execution_count": 54,
     "metadata": {},
     "output_type": "execute_result"
    },
    {
     "data": {
      "image/png": "[encoded data removed]",
      "text/plain": [
       "<matplotlib.figure.Figure at 0x2b9b38388fd0>"
      ]
     },
     "metadata": {},
     "output_type": "display_data"
    }
   ],
   "source": [
    "#combined_25\n",
    "newtotarea1 = np.array(np.empty((0,36)))\n",
    "newtotarea2 = np.array(np.empty((0,36)))\n",
    "coords2 = {}\n",
    "for i in range(len(newt)):\n",
    "    tcond = qtottotal[i,:,int(qtotlocz[i]),:]\n",
    "    wcond = wtot[i,:,int(qtotlocz[i]),:]\n",
    "    ind1 = np.where(tcond >=1.0)\n",
    "    ind2 = np.where(wcond >=1.0)\n",
    "    counter = 0\n",
    "    coords = {}\n",
    "    coords['z'] = np.array([])\n",
    "    coords['x'] = np.array([])\n",
    "    for n in np.arange(0,len(ind1[0])):\n",
    "        x = ind1[0][n]\n",
    "        y = ind1[1][n]\n",
    "        ind3 = np.where(ind2[0] == x)\n",
    "        ind4 = np.where(ind2[1] == y)\n",
    "        ind5 = np.intersect1d(ind3,ind4)\n",
    "        if len(ind5) >= 1:\n",
    "            counter = counter + 1\n",
    "            coords['z'] = np.append(coords['z'],x)\n",
    "            coords['x'] = np.append(coords['x'],y)\n",
    "    \n",
    "    coords2[i] = coords    \n",
    "    newtotarea1 = counter\n",
    "    newtotarea2 = np.array(np.append(newtotarea2, [newtotarea1]))\n",
    "    \n",
    "    newtotarea2[i] = np.array([np.multiply(newtotarea2[i],10000)])\n",
    "    \n",
    "# newtotarea2 = newtotarea2[0:35]\n",
    "# newt1 = np.arange(0,35,1)\n",
    "newt2 = np.add(newt,55)\n",
    "plt.figure(figsize=(10,6))\n",
    "#plt.xlim(0,620)\n",
    "plt.ylim(10**5,10**9)\n",
    "plt.xlabel('Time in minutes', fontsize=20)\n",
    "plt.ylabel('Area in m^2', fontsize=20)\n",
    "plt.yscale('log')\n",
    "plt.title('Time Series of Total Area (Carp)', fontsize=20)\n",
    "grid('on')\n",
    "plt.plot(newt2,newtotarea225,color=\"blue\",label=\"tot_25\")\n",
    "plt.plot(newt2,newtotarea2,color=\"red\",label=\"tot_11\")\n",
    "plt.legend(bbox_to_anchor=(.25, 1.0), loc=1)\n",
    "\n"
   ]
  },
  {
   "cell_type": "code",
   "execution_count": null,
   "metadata": {
    "collapsed": true
   },
   "outputs": [],
   "source": []
  },
  {
   "cell_type": "code",
   "execution_count": null,
   "metadata": {
    "collapsed": true
   },
   "outputs": [],
   "source": []
  }
 ],
 "metadata": {
  "kernelspec": {
   "display_name": "Python [Root]",
   "language": "python",
   "name": "Python [Root]"
  },
  "language_info": {
   "codemirror_mode": {
    "name": "ipython",
    "version": 2
   },
   "file_extension": ".py",
   "mimetype": "text/x-python",
   "name": "python",
   "nbconvert_exporter": "python",
   "pygments_lexer": "ipython2",
   "version": "2.7.12"
  }
 },
 "nbformat": 4,
 "nbformat_minor": 0
}
